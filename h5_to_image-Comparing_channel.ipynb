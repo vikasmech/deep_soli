{
 "cells": [
  {
   "cell_type": "code",
   "execution_count": 1,
   "metadata": {},
   "outputs": [],
   "source": [
    "%matplotlib inline\n",
    "import math,sys,os,numpy as np\n",
    "from numpy.linalg import norm\n",
    "from PIL import Image\n",
    "from matplotlib import pyplot as plt, rcParams, rc\n",
    "from scipy.ndimage import imread\n",
    "from skimage.measure import block_reduce\n",
    "import _pickle as pickle\n",
    "from scipy.ndimage.filters import correlate, convolve\n",
    "from ipywidgets import interact, interactive, fixed\n",
    "from ipywidgets.widgets import *\n",
    "rc('animation', html='html5')\n",
    "rcParams['figure.figsize'] = 3, 6\n",
    "%precision 4\n",
    "np.set_printoptions(precision=4, linewidth=100)"
   ]
  },
  {
   "cell_type": "code",
   "execution_count": 2,
   "metadata": {},
   "outputs": [],
   "source": [
    "def plots(ims, interp=False, titles=None):\n",
    "    ims=np.array(ims)\n",
    "    mn,mx=ims.min(),ims.max()\n",
    "    f = plt.figure(figsize=(12,24))\n",
    "    for i in range(len(ims)):\n",
    "        sp=f.add_subplot(1, len(ims), i+1)\n",
    "        if not titles is None: sp.set_title(titles[i], fontsize=18)\n",
    "        plt.imshow(ims[i], interpolation=None if interp else 'none', vmin=mn,vmax=mx)\n",
    "\n",
    "def plot(im, interp=False):\n",
    "    f = plt.figure(figsize=(3,6), frameon=True)\n",
    "    plt.imshow(im, interpolation=None if interp else 'none')\n",
    "\n",
    "plt.gray()\n",
    "plt.close()"
   ]
  },
  {
   "cell_type": "code",
   "execution_count": 3,
   "metadata": {},
   "outputs": [],
   "source": [
    "labels = [i for i in range(0,11)]\n",
    "\n",
    "channel = [0,1,2,3]\n",
    "max_frame_number = 40 - 20\n",
    "instance = [i for i in range(0,25)]\n",
    "session = [i for i in range(0,10)]\n",
    "# there is some confusion between session and user "
   ]
  },
  {
   "cell_type": "code",
   "execution_count": 4,
   "metadata": {},
   "outputs": [],
   "source": [
    "h5_folder_path = '/home/u12215/deep-soli/SoliData_tmp/dsp'\n",
    "# this number of folder we would like to use for training: cross training\n",
    "h5_list = []\n",
    "for x in labels:\n",
    "    for y in session:\n",
    "        for z in instance:\n",
    "            h5_list.append(h5_folder_path+'/{0}_{1}_{2}.h5'.format(x,y,z))"
   ]
  },
  {
   "cell_type": "code",
   "execution_count": 5,
   "metadata": {},
   "outputs": [],
   "source": [
    "file_name = h5_list[1010]"
   ]
  },
  {
   "cell_type": "code",
   "execution_count": 6,
   "metadata": {},
   "outputs": [
    {
     "data": {
      "text/plain": [
       "2750"
      ]
     },
     "execution_count": 6,
     "metadata": {},
     "output_type": "execute_result"
    }
   ],
   "source": [
    "len(h5_list)"
   ]
  },
  {
   "cell_type": "code",
   "execution_count": 7,
   "metadata": {},
   "outputs": [
    {
     "data": {
      "text/plain": [
       "['/home/u12215/deep-soli/SoliData_tmp/dsp/0_0_0.h5',\n",
       " '/home/u12215/deep-soli/SoliData_tmp/dsp/0_0_1.h5',\n",
       " '/home/u12215/deep-soli/SoliData_tmp/dsp/0_0_2.h5',\n",
       " '/home/u12215/deep-soli/SoliData_tmp/dsp/0_0_3.h5',\n",
       " '/home/u12215/deep-soli/SoliData_tmp/dsp/0_0_4.h5',\n",
       " '/home/u12215/deep-soli/SoliData_tmp/dsp/0_0_5.h5',\n",
       " '/home/u12215/deep-soli/SoliData_tmp/dsp/0_0_6.h5',\n",
       " '/home/u12215/deep-soli/SoliData_tmp/dsp/0_0_7.h5',\n",
       " '/home/u12215/deep-soli/SoliData_tmp/dsp/0_0_8.h5',\n",
       " '/home/u12215/deep-soli/SoliData_tmp/dsp/0_0_9.h5',\n",
       " '/home/u12215/deep-soli/SoliData_tmp/dsp/0_0_10.h5',\n",
       " '/home/u12215/deep-soli/SoliData_tmp/dsp/0_0_11.h5',\n",
       " '/home/u12215/deep-soli/SoliData_tmp/dsp/0_0_12.h5',\n",
       " '/home/u12215/deep-soli/SoliData_tmp/dsp/0_0_13.h5',\n",
       " '/home/u12215/deep-soli/SoliData_tmp/dsp/0_0_14.h5',\n",
       " '/home/u12215/deep-soli/SoliData_tmp/dsp/0_0_15.h5',\n",
       " '/home/u12215/deep-soli/SoliData_tmp/dsp/0_0_16.h5',\n",
       " '/home/u12215/deep-soli/SoliData_tmp/dsp/0_0_17.h5',\n",
       " '/home/u12215/deep-soli/SoliData_tmp/dsp/0_0_18.h5',\n",
       " '/home/u12215/deep-soli/SoliData_tmp/dsp/0_0_19.h5',\n",
       " '/home/u12215/deep-soli/SoliData_tmp/dsp/0_0_20.h5',\n",
       " '/home/u12215/deep-soli/SoliData_tmp/dsp/0_0_21.h5',\n",
       " '/home/u12215/deep-soli/SoliData_tmp/dsp/0_0_22.h5',\n",
       " '/home/u12215/deep-soli/SoliData_tmp/dsp/0_0_23.h5',\n",
       " '/home/u12215/deep-soli/SoliData_tmp/dsp/0_0_24.h5',\n",
       " '/home/u12215/deep-soli/SoliData_tmp/dsp/0_1_0.h5',\n",
       " '/home/u12215/deep-soli/SoliData_tmp/dsp/0_1_1.h5',\n",
       " '/home/u12215/deep-soli/SoliData_tmp/dsp/0_1_2.h5',\n",
       " '/home/u12215/deep-soli/SoliData_tmp/dsp/0_1_3.h5',\n",
       " '/home/u12215/deep-soli/SoliData_tmp/dsp/0_1_4.h5',\n",
       " '/home/u12215/deep-soli/SoliData_tmp/dsp/0_1_5.h5',\n",
       " '/home/u12215/deep-soli/SoliData_tmp/dsp/0_1_6.h5',\n",
       " '/home/u12215/deep-soli/SoliData_tmp/dsp/0_1_7.h5',\n",
       " '/home/u12215/deep-soli/SoliData_tmp/dsp/0_1_8.h5',\n",
       " '/home/u12215/deep-soli/SoliData_tmp/dsp/0_1_9.h5',\n",
       " '/home/u12215/deep-soli/SoliData_tmp/dsp/0_1_10.h5',\n",
       " '/home/u12215/deep-soli/SoliData_tmp/dsp/0_1_11.h5',\n",
       " '/home/u12215/deep-soli/SoliData_tmp/dsp/0_1_12.h5',\n",
       " '/home/u12215/deep-soli/SoliData_tmp/dsp/0_1_13.h5',\n",
       " '/home/u12215/deep-soli/SoliData_tmp/dsp/0_1_14.h5',\n",
       " '/home/u12215/deep-soli/SoliData_tmp/dsp/0_1_15.h5',\n",
       " '/home/u12215/deep-soli/SoliData_tmp/dsp/0_1_16.h5',\n",
       " '/home/u12215/deep-soli/SoliData_tmp/dsp/0_1_17.h5',\n",
       " '/home/u12215/deep-soli/SoliData_tmp/dsp/0_1_18.h5',\n",
       " '/home/u12215/deep-soli/SoliData_tmp/dsp/0_1_19.h5',\n",
       " '/home/u12215/deep-soli/SoliData_tmp/dsp/0_1_20.h5',\n",
       " '/home/u12215/deep-soli/SoliData_tmp/dsp/0_1_21.h5',\n",
       " '/home/u12215/deep-soli/SoliData_tmp/dsp/0_1_22.h5',\n",
       " '/home/u12215/deep-soli/SoliData_tmp/dsp/0_1_23.h5',\n",
       " '/home/u12215/deep-soli/SoliData_tmp/dsp/0_1_24.h5',\n",
       " '/home/u12215/deep-soli/SoliData_tmp/dsp/0_2_0.h5',\n",
       " '/home/u12215/deep-soli/SoliData_tmp/dsp/0_2_1.h5',\n",
       " '/home/u12215/deep-soli/SoliData_tmp/dsp/0_2_2.h5',\n",
       " '/home/u12215/deep-soli/SoliData_tmp/dsp/0_2_3.h5',\n",
       " '/home/u12215/deep-soli/SoliData_tmp/dsp/0_2_4.h5',\n",
       " '/home/u12215/deep-soli/SoliData_tmp/dsp/0_2_5.h5',\n",
       " '/home/u12215/deep-soli/SoliData_tmp/dsp/0_2_6.h5',\n",
       " '/home/u12215/deep-soli/SoliData_tmp/dsp/0_2_7.h5',\n",
       " '/home/u12215/deep-soli/SoliData_tmp/dsp/0_2_8.h5',\n",
       " '/home/u12215/deep-soli/SoliData_tmp/dsp/0_2_9.h5',\n",
       " '/home/u12215/deep-soli/SoliData_tmp/dsp/0_2_10.h5',\n",
       " '/home/u12215/deep-soli/SoliData_tmp/dsp/0_2_11.h5',\n",
       " '/home/u12215/deep-soli/SoliData_tmp/dsp/0_2_12.h5',\n",
       " '/home/u12215/deep-soli/SoliData_tmp/dsp/0_2_13.h5',\n",
       " '/home/u12215/deep-soli/SoliData_tmp/dsp/0_2_14.h5',\n",
       " '/home/u12215/deep-soli/SoliData_tmp/dsp/0_2_15.h5',\n",
       " '/home/u12215/deep-soli/SoliData_tmp/dsp/0_2_16.h5',\n",
       " '/home/u12215/deep-soli/SoliData_tmp/dsp/0_2_17.h5',\n",
       " '/home/u12215/deep-soli/SoliData_tmp/dsp/0_2_18.h5',\n",
       " '/home/u12215/deep-soli/SoliData_tmp/dsp/0_2_19.h5',\n",
       " '/home/u12215/deep-soli/SoliData_tmp/dsp/0_2_20.h5',\n",
       " '/home/u12215/deep-soli/SoliData_tmp/dsp/0_2_21.h5',\n",
       " '/home/u12215/deep-soli/SoliData_tmp/dsp/0_2_22.h5',\n",
       " '/home/u12215/deep-soli/SoliData_tmp/dsp/0_2_23.h5',\n",
       " '/home/u12215/deep-soli/SoliData_tmp/dsp/0_2_24.h5',\n",
       " '/home/u12215/deep-soli/SoliData_tmp/dsp/0_3_0.h5',\n",
       " '/home/u12215/deep-soli/SoliData_tmp/dsp/0_3_1.h5',\n",
       " '/home/u12215/deep-soli/SoliData_tmp/dsp/0_3_2.h5',\n",
       " '/home/u12215/deep-soli/SoliData_tmp/dsp/0_3_3.h5',\n",
       " '/home/u12215/deep-soli/SoliData_tmp/dsp/0_3_4.h5',\n",
       " '/home/u12215/deep-soli/SoliData_tmp/dsp/0_3_5.h5',\n",
       " '/home/u12215/deep-soli/SoliData_tmp/dsp/0_3_6.h5',\n",
       " '/home/u12215/deep-soli/SoliData_tmp/dsp/0_3_7.h5',\n",
       " '/home/u12215/deep-soli/SoliData_tmp/dsp/0_3_8.h5',\n",
       " '/home/u12215/deep-soli/SoliData_tmp/dsp/0_3_9.h5',\n",
       " '/home/u12215/deep-soli/SoliData_tmp/dsp/0_3_10.h5',\n",
       " '/home/u12215/deep-soli/SoliData_tmp/dsp/0_3_11.h5',\n",
       " '/home/u12215/deep-soli/SoliData_tmp/dsp/0_3_12.h5',\n",
       " '/home/u12215/deep-soli/SoliData_tmp/dsp/0_3_13.h5',\n",
       " '/home/u12215/deep-soli/SoliData_tmp/dsp/0_3_14.h5',\n",
       " '/home/u12215/deep-soli/SoliData_tmp/dsp/0_3_15.h5',\n",
       " '/home/u12215/deep-soli/SoliData_tmp/dsp/0_3_16.h5',\n",
       " '/home/u12215/deep-soli/SoliData_tmp/dsp/0_3_17.h5',\n",
       " '/home/u12215/deep-soli/SoliData_tmp/dsp/0_3_18.h5',\n",
       " '/home/u12215/deep-soli/SoliData_tmp/dsp/0_3_19.h5',\n",
       " '/home/u12215/deep-soli/SoliData_tmp/dsp/0_3_20.h5',\n",
       " '/home/u12215/deep-soli/SoliData_tmp/dsp/0_3_21.h5',\n",
       " '/home/u12215/deep-soli/SoliData_tmp/dsp/0_3_22.h5',\n",
       " '/home/u12215/deep-soli/SoliData_tmp/dsp/0_3_23.h5',\n",
       " '/home/u12215/deep-soli/SoliData_tmp/dsp/0_3_24.h5',\n",
       " '/home/u12215/deep-soli/SoliData_tmp/dsp/0_4_0.h5',\n",
       " '/home/u12215/deep-soli/SoliData_tmp/dsp/0_4_1.h5',\n",
       " '/home/u12215/deep-soli/SoliData_tmp/dsp/0_4_2.h5',\n",
       " '/home/u12215/deep-soli/SoliData_tmp/dsp/0_4_3.h5',\n",
       " '/home/u12215/deep-soli/SoliData_tmp/dsp/0_4_4.h5',\n",
       " '/home/u12215/deep-soli/SoliData_tmp/dsp/0_4_5.h5',\n",
       " '/home/u12215/deep-soli/SoliData_tmp/dsp/0_4_6.h5',\n",
       " '/home/u12215/deep-soli/SoliData_tmp/dsp/0_4_7.h5',\n",
       " '/home/u12215/deep-soli/SoliData_tmp/dsp/0_4_8.h5',\n",
       " '/home/u12215/deep-soli/SoliData_tmp/dsp/0_4_9.h5',\n",
       " '/home/u12215/deep-soli/SoliData_tmp/dsp/0_4_10.h5',\n",
       " '/home/u12215/deep-soli/SoliData_tmp/dsp/0_4_11.h5',\n",
       " '/home/u12215/deep-soli/SoliData_tmp/dsp/0_4_12.h5',\n",
       " '/home/u12215/deep-soli/SoliData_tmp/dsp/0_4_13.h5',\n",
       " '/home/u12215/deep-soli/SoliData_tmp/dsp/0_4_14.h5',\n",
       " '/home/u12215/deep-soli/SoliData_tmp/dsp/0_4_15.h5',\n",
       " '/home/u12215/deep-soli/SoliData_tmp/dsp/0_4_16.h5',\n",
       " '/home/u12215/deep-soli/SoliData_tmp/dsp/0_4_17.h5',\n",
       " '/home/u12215/deep-soli/SoliData_tmp/dsp/0_4_18.h5',\n",
       " '/home/u12215/deep-soli/SoliData_tmp/dsp/0_4_19.h5',\n",
       " '/home/u12215/deep-soli/SoliData_tmp/dsp/0_4_20.h5',\n",
       " '/home/u12215/deep-soli/SoliData_tmp/dsp/0_4_21.h5',\n",
       " '/home/u12215/deep-soli/SoliData_tmp/dsp/0_4_22.h5',\n",
       " '/home/u12215/deep-soli/SoliData_tmp/dsp/0_4_23.h5',\n",
       " '/home/u12215/deep-soli/SoliData_tmp/dsp/0_4_24.h5',\n",
       " '/home/u12215/deep-soli/SoliData_tmp/dsp/0_5_0.h5',\n",
       " '/home/u12215/deep-soli/SoliData_tmp/dsp/0_5_1.h5',\n",
       " '/home/u12215/deep-soli/SoliData_tmp/dsp/0_5_2.h5',\n",
       " '/home/u12215/deep-soli/SoliData_tmp/dsp/0_5_3.h5',\n",
       " '/home/u12215/deep-soli/SoliData_tmp/dsp/0_5_4.h5',\n",
       " '/home/u12215/deep-soli/SoliData_tmp/dsp/0_5_5.h5',\n",
       " '/home/u12215/deep-soli/SoliData_tmp/dsp/0_5_6.h5',\n",
       " '/home/u12215/deep-soli/SoliData_tmp/dsp/0_5_7.h5',\n",
       " '/home/u12215/deep-soli/SoliData_tmp/dsp/0_5_8.h5',\n",
       " '/home/u12215/deep-soli/SoliData_tmp/dsp/0_5_9.h5',\n",
       " '/home/u12215/deep-soli/SoliData_tmp/dsp/0_5_10.h5',\n",
       " '/home/u12215/deep-soli/SoliData_tmp/dsp/0_5_11.h5',\n",
       " '/home/u12215/deep-soli/SoliData_tmp/dsp/0_5_12.h5',\n",
       " '/home/u12215/deep-soli/SoliData_tmp/dsp/0_5_13.h5',\n",
       " '/home/u12215/deep-soli/SoliData_tmp/dsp/0_5_14.h5',\n",
       " '/home/u12215/deep-soli/SoliData_tmp/dsp/0_5_15.h5',\n",
       " '/home/u12215/deep-soli/SoliData_tmp/dsp/0_5_16.h5',\n",
       " '/home/u12215/deep-soli/SoliData_tmp/dsp/0_5_17.h5',\n",
       " '/home/u12215/deep-soli/SoliData_tmp/dsp/0_5_18.h5',\n",
       " '/home/u12215/deep-soli/SoliData_tmp/dsp/0_5_19.h5',\n",
       " '/home/u12215/deep-soli/SoliData_tmp/dsp/0_5_20.h5',\n",
       " '/home/u12215/deep-soli/SoliData_tmp/dsp/0_5_21.h5',\n",
       " '/home/u12215/deep-soli/SoliData_tmp/dsp/0_5_22.h5',\n",
       " '/home/u12215/deep-soli/SoliData_tmp/dsp/0_5_23.h5',\n",
       " '/home/u12215/deep-soli/SoliData_tmp/dsp/0_5_24.h5',\n",
       " '/home/u12215/deep-soli/SoliData_tmp/dsp/0_6_0.h5',\n",
       " '/home/u12215/deep-soli/SoliData_tmp/dsp/0_6_1.h5',\n",
       " '/home/u12215/deep-soli/SoliData_tmp/dsp/0_6_2.h5',\n",
       " '/home/u12215/deep-soli/SoliData_tmp/dsp/0_6_3.h5',\n",
       " '/home/u12215/deep-soli/SoliData_tmp/dsp/0_6_4.h5',\n",
       " '/home/u12215/deep-soli/SoliData_tmp/dsp/0_6_5.h5',\n",
       " '/home/u12215/deep-soli/SoliData_tmp/dsp/0_6_6.h5',\n",
       " '/home/u12215/deep-soli/SoliData_tmp/dsp/0_6_7.h5',\n",
       " '/home/u12215/deep-soli/SoliData_tmp/dsp/0_6_8.h5',\n",
       " '/home/u12215/deep-soli/SoliData_tmp/dsp/0_6_9.h5',\n",
       " '/home/u12215/deep-soli/SoliData_tmp/dsp/0_6_10.h5',\n",
       " '/home/u12215/deep-soli/SoliData_tmp/dsp/0_6_11.h5',\n",
       " '/home/u12215/deep-soli/SoliData_tmp/dsp/0_6_12.h5',\n",
       " '/home/u12215/deep-soli/SoliData_tmp/dsp/0_6_13.h5',\n",
       " '/home/u12215/deep-soli/SoliData_tmp/dsp/0_6_14.h5',\n",
       " '/home/u12215/deep-soli/SoliData_tmp/dsp/0_6_15.h5',\n",
       " '/home/u12215/deep-soli/SoliData_tmp/dsp/0_6_16.h5',\n",
       " '/home/u12215/deep-soli/SoliData_tmp/dsp/0_6_17.h5',\n",
       " '/home/u12215/deep-soli/SoliData_tmp/dsp/0_6_18.h5',\n",
       " '/home/u12215/deep-soli/SoliData_tmp/dsp/0_6_19.h5',\n",
       " '/home/u12215/deep-soli/SoliData_tmp/dsp/0_6_20.h5',\n",
       " '/home/u12215/deep-soli/SoliData_tmp/dsp/0_6_21.h5',\n",
       " '/home/u12215/deep-soli/SoliData_tmp/dsp/0_6_22.h5',\n",
       " '/home/u12215/deep-soli/SoliData_tmp/dsp/0_6_23.h5',\n",
       " '/home/u12215/deep-soli/SoliData_tmp/dsp/0_6_24.h5',\n",
       " '/home/u12215/deep-soli/SoliData_tmp/dsp/0_7_0.h5',\n",
       " '/home/u12215/deep-soli/SoliData_tmp/dsp/0_7_1.h5',\n",
       " '/home/u12215/deep-soli/SoliData_tmp/dsp/0_7_2.h5',\n",
       " '/home/u12215/deep-soli/SoliData_tmp/dsp/0_7_3.h5',\n",
       " '/home/u12215/deep-soli/SoliData_tmp/dsp/0_7_4.h5',\n",
       " '/home/u12215/deep-soli/SoliData_tmp/dsp/0_7_5.h5',\n",
       " '/home/u12215/deep-soli/SoliData_tmp/dsp/0_7_6.h5',\n",
       " '/home/u12215/deep-soli/SoliData_tmp/dsp/0_7_7.h5',\n",
       " '/home/u12215/deep-soli/SoliData_tmp/dsp/0_7_8.h5',\n",
       " '/home/u12215/deep-soli/SoliData_tmp/dsp/0_7_9.h5',\n",
       " '/home/u12215/deep-soli/SoliData_tmp/dsp/0_7_10.h5',\n",
       " '/home/u12215/deep-soli/SoliData_tmp/dsp/0_7_11.h5',\n",
       " '/home/u12215/deep-soli/SoliData_tmp/dsp/0_7_12.h5',\n",
       " '/home/u12215/deep-soli/SoliData_tmp/dsp/0_7_13.h5',\n",
       " '/home/u12215/deep-soli/SoliData_tmp/dsp/0_7_14.h5',\n",
       " '/home/u12215/deep-soli/SoliData_tmp/dsp/0_7_15.h5',\n",
       " '/home/u12215/deep-soli/SoliData_tmp/dsp/0_7_16.h5',\n",
       " '/home/u12215/deep-soli/SoliData_tmp/dsp/0_7_17.h5',\n",
       " '/home/u12215/deep-soli/SoliData_tmp/dsp/0_7_18.h5',\n",
       " '/home/u12215/deep-soli/SoliData_tmp/dsp/0_7_19.h5',\n",
       " '/home/u12215/deep-soli/SoliData_tmp/dsp/0_7_20.h5',\n",
       " '/home/u12215/deep-soli/SoliData_tmp/dsp/0_7_21.h5',\n",
       " '/home/u12215/deep-soli/SoliData_tmp/dsp/0_7_22.h5',\n",
       " '/home/u12215/deep-soli/SoliData_tmp/dsp/0_7_23.h5',\n",
       " '/home/u12215/deep-soli/SoliData_tmp/dsp/0_7_24.h5',\n",
       " '/home/u12215/deep-soli/SoliData_tmp/dsp/0_8_0.h5',\n",
       " '/home/u12215/deep-soli/SoliData_tmp/dsp/0_8_1.h5',\n",
       " '/home/u12215/deep-soli/SoliData_tmp/dsp/0_8_2.h5',\n",
       " '/home/u12215/deep-soli/SoliData_tmp/dsp/0_8_3.h5',\n",
       " '/home/u12215/deep-soli/SoliData_tmp/dsp/0_8_4.h5',\n",
       " '/home/u12215/deep-soli/SoliData_tmp/dsp/0_8_5.h5',\n",
       " '/home/u12215/deep-soli/SoliData_tmp/dsp/0_8_6.h5',\n",
       " '/home/u12215/deep-soli/SoliData_tmp/dsp/0_8_7.h5',\n",
       " '/home/u12215/deep-soli/SoliData_tmp/dsp/0_8_8.h5',\n",
       " '/home/u12215/deep-soli/SoliData_tmp/dsp/0_8_9.h5',\n",
       " '/home/u12215/deep-soli/SoliData_tmp/dsp/0_8_10.h5',\n",
       " '/home/u12215/deep-soli/SoliData_tmp/dsp/0_8_11.h5',\n",
       " '/home/u12215/deep-soli/SoliData_tmp/dsp/0_8_12.h5',\n",
       " '/home/u12215/deep-soli/SoliData_tmp/dsp/0_8_13.h5',\n",
       " '/home/u12215/deep-soli/SoliData_tmp/dsp/0_8_14.h5',\n",
       " '/home/u12215/deep-soli/SoliData_tmp/dsp/0_8_15.h5',\n",
       " '/home/u12215/deep-soli/SoliData_tmp/dsp/0_8_16.h5',\n",
       " '/home/u12215/deep-soli/SoliData_tmp/dsp/0_8_17.h5',\n",
       " '/home/u12215/deep-soli/SoliData_tmp/dsp/0_8_18.h5',\n",
       " '/home/u12215/deep-soli/SoliData_tmp/dsp/0_8_19.h5',\n",
       " '/home/u12215/deep-soli/SoliData_tmp/dsp/0_8_20.h5',\n",
       " '/home/u12215/deep-soli/SoliData_tmp/dsp/0_8_21.h5',\n",
       " '/home/u12215/deep-soli/SoliData_tmp/dsp/0_8_22.h5',\n",
       " '/home/u12215/deep-soli/SoliData_tmp/dsp/0_8_23.h5',\n",
       " '/home/u12215/deep-soli/SoliData_tmp/dsp/0_8_24.h5',\n",
       " '/home/u12215/deep-soli/SoliData_tmp/dsp/0_9_0.h5',\n",
       " '/home/u12215/deep-soli/SoliData_tmp/dsp/0_9_1.h5',\n",
       " '/home/u12215/deep-soli/SoliData_tmp/dsp/0_9_2.h5',\n",
       " '/home/u12215/deep-soli/SoliData_tmp/dsp/0_9_3.h5',\n",
       " '/home/u12215/deep-soli/SoliData_tmp/dsp/0_9_4.h5',\n",
       " '/home/u12215/deep-soli/SoliData_tmp/dsp/0_9_5.h5',\n",
       " '/home/u12215/deep-soli/SoliData_tmp/dsp/0_9_6.h5',\n",
       " '/home/u12215/deep-soli/SoliData_tmp/dsp/0_9_7.h5',\n",
       " '/home/u12215/deep-soli/SoliData_tmp/dsp/0_9_8.h5',\n",
       " '/home/u12215/deep-soli/SoliData_tmp/dsp/0_9_9.h5',\n",
       " '/home/u12215/deep-soli/SoliData_tmp/dsp/0_9_10.h5',\n",
       " '/home/u12215/deep-soli/SoliData_tmp/dsp/0_9_11.h5',\n",
       " '/home/u12215/deep-soli/SoliData_tmp/dsp/0_9_12.h5',\n",
       " '/home/u12215/deep-soli/SoliData_tmp/dsp/0_9_13.h5',\n",
       " '/home/u12215/deep-soli/SoliData_tmp/dsp/0_9_14.h5',\n",
       " '/home/u12215/deep-soli/SoliData_tmp/dsp/0_9_15.h5',\n",
       " '/home/u12215/deep-soli/SoliData_tmp/dsp/0_9_16.h5',\n",
       " '/home/u12215/deep-soli/SoliData_tmp/dsp/0_9_17.h5',\n",
       " '/home/u12215/deep-soli/SoliData_tmp/dsp/0_9_18.h5',\n",
       " '/home/u12215/deep-soli/SoliData_tmp/dsp/0_9_19.h5',\n",
       " '/home/u12215/deep-soli/SoliData_tmp/dsp/0_9_20.h5',\n",
       " '/home/u12215/deep-soli/SoliData_tmp/dsp/0_9_21.h5',\n",
       " '/home/u12215/deep-soli/SoliData_tmp/dsp/0_9_22.h5',\n",
       " '/home/u12215/deep-soli/SoliData_tmp/dsp/0_9_23.h5',\n",
       " '/home/u12215/deep-soli/SoliData_tmp/dsp/0_9_24.h5',\n",
       " '/home/u12215/deep-soli/SoliData_tmp/dsp/1_0_0.h5',\n",
       " '/home/u12215/deep-soli/SoliData_tmp/dsp/1_0_1.h5',\n",
       " '/home/u12215/deep-soli/SoliData_tmp/dsp/1_0_2.h5',\n",
       " '/home/u12215/deep-soli/SoliData_tmp/dsp/1_0_3.h5',\n",
       " '/home/u12215/deep-soli/SoliData_tmp/dsp/1_0_4.h5',\n",
       " '/home/u12215/deep-soli/SoliData_tmp/dsp/1_0_5.h5',\n",
       " '/home/u12215/deep-soli/SoliData_tmp/dsp/1_0_6.h5',\n",
       " '/home/u12215/deep-soli/SoliData_tmp/dsp/1_0_7.h5',\n",
       " '/home/u12215/deep-soli/SoliData_tmp/dsp/1_0_8.h5',\n",
       " '/home/u12215/deep-soli/SoliData_tmp/dsp/1_0_9.h5',\n",
       " '/home/u12215/deep-soli/SoliData_tmp/dsp/1_0_10.h5',\n",
       " '/home/u12215/deep-soli/SoliData_tmp/dsp/1_0_11.h5',\n",
       " '/home/u12215/deep-soli/SoliData_tmp/dsp/1_0_12.h5',\n",
       " '/home/u12215/deep-soli/SoliData_tmp/dsp/1_0_13.h5',\n",
       " '/home/u12215/deep-soli/SoliData_tmp/dsp/1_0_14.h5',\n",
       " '/home/u12215/deep-soli/SoliData_tmp/dsp/1_0_15.h5',\n",
       " '/home/u12215/deep-soli/SoliData_tmp/dsp/1_0_16.h5',\n",
       " '/home/u12215/deep-soli/SoliData_tmp/dsp/1_0_17.h5',\n",
       " '/home/u12215/deep-soli/SoliData_tmp/dsp/1_0_18.h5',\n",
       " '/home/u12215/deep-soli/SoliData_tmp/dsp/1_0_19.h5',\n",
       " '/home/u12215/deep-soli/SoliData_tmp/dsp/1_0_20.h5',\n",
       " '/home/u12215/deep-soli/SoliData_tmp/dsp/1_0_21.h5',\n",
       " '/home/u12215/deep-soli/SoliData_tmp/dsp/1_0_22.h5',\n",
       " '/home/u12215/deep-soli/SoliData_tmp/dsp/1_0_23.h5',\n",
       " '/home/u12215/deep-soli/SoliData_tmp/dsp/1_0_24.h5',\n",
       " '/home/u12215/deep-soli/SoliData_tmp/dsp/1_1_0.h5',\n",
       " '/home/u12215/deep-soli/SoliData_tmp/dsp/1_1_1.h5',\n",
       " '/home/u12215/deep-soli/SoliData_tmp/dsp/1_1_2.h5',\n",
       " '/home/u12215/deep-soli/SoliData_tmp/dsp/1_1_3.h5',\n",
       " '/home/u12215/deep-soli/SoliData_tmp/dsp/1_1_4.h5',\n",
       " '/home/u12215/deep-soli/SoliData_tmp/dsp/1_1_5.h5',\n",
       " '/home/u12215/deep-soli/SoliData_tmp/dsp/1_1_6.h5',\n",
       " '/home/u12215/deep-soli/SoliData_tmp/dsp/1_1_7.h5',\n",
       " '/home/u12215/deep-soli/SoliData_tmp/dsp/1_1_8.h5',\n",
       " '/home/u12215/deep-soli/SoliData_tmp/dsp/1_1_9.h5',\n",
       " '/home/u12215/deep-soli/SoliData_tmp/dsp/1_1_10.h5',\n",
       " '/home/u12215/deep-soli/SoliData_tmp/dsp/1_1_11.h5',\n",
       " '/home/u12215/deep-soli/SoliData_tmp/dsp/1_1_12.h5',\n",
       " '/home/u12215/deep-soli/SoliData_tmp/dsp/1_1_13.h5',\n",
       " '/home/u12215/deep-soli/SoliData_tmp/dsp/1_1_14.h5',\n",
       " '/home/u12215/deep-soli/SoliData_tmp/dsp/1_1_15.h5',\n",
       " '/home/u12215/deep-soli/SoliData_tmp/dsp/1_1_16.h5',\n",
       " '/home/u12215/deep-soli/SoliData_tmp/dsp/1_1_17.h5',\n",
       " '/home/u12215/deep-soli/SoliData_tmp/dsp/1_1_18.h5',\n",
       " '/home/u12215/deep-soli/SoliData_tmp/dsp/1_1_19.h5',\n",
       " '/home/u12215/deep-soli/SoliData_tmp/dsp/1_1_20.h5',\n",
       " '/home/u12215/deep-soli/SoliData_tmp/dsp/1_1_21.h5',\n",
       " '/home/u12215/deep-soli/SoliData_tmp/dsp/1_1_22.h5',\n",
       " '/home/u12215/deep-soli/SoliData_tmp/dsp/1_1_23.h5',\n",
       " '/home/u12215/deep-soli/SoliData_tmp/dsp/1_1_24.h5',\n",
       " '/home/u12215/deep-soli/SoliData_tmp/dsp/1_2_0.h5',\n",
       " '/home/u12215/deep-soli/SoliData_tmp/dsp/1_2_1.h5',\n",
       " '/home/u12215/deep-soli/SoliData_tmp/dsp/1_2_2.h5',\n",
       " '/home/u12215/deep-soli/SoliData_tmp/dsp/1_2_3.h5',\n",
       " '/home/u12215/deep-soli/SoliData_tmp/dsp/1_2_4.h5',\n",
       " '/home/u12215/deep-soli/SoliData_tmp/dsp/1_2_5.h5',\n",
       " '/home/u12215/deep-soli/SoliData_tmp/dsp/1_2_6.h5',\n",
       " '/home/u12215/deep-soli/SoliData_tmp/dsp/1_2_7.h5',\n",
       " '/home/u12215/deep-soli/SoliData_tmp/dsp/1_2_8.h5',\n",
       " '/home/u12215/deep-soli/SoliData_tmp/dsp/1_2_9.h5',\n",
       " '/home/u12215/deep-soli/SoliData_tmp/dsp/1_2_10.h5',\n",
       " '/home/u12215/deep-soli/SoliData_tmp/dsp/1_2_11.h5',\n",
       " '/home/u12215/deep-soli/SoliData_tmp/dsp/1_2_12.h5',\n",
       " '/home/u12215/deep-soli/SoliData_tmp/dsp/1_2_13.h5',\n",
       " '/home/u12215/deep-soli/SoliData_tmp/dsp/1_2_14.h5',\n",
       " '/home/u12215/deep-soli/SoliData_tmp/dsp/1_2_15.h5',\n",
       " '/home/u12215/deep-soli/SoliData_tmp/dsp/1_2_16.h5',\n",
       " '/home/u12215/deep-soli/SoliData_tmp/dsp/1_2_17.h5',\n",
       " '/home/u12215/deep-soli/SoliData_tmp/dsp/1_2_18.h5',\n",
       " '/home/u12215/deep-soli/SoliData_tmp/dsp/1_2_19.h5',\n",
       " '/home/u12215/deep-soli/SoliData_tmp/dsp/1_2_20.h5',\n",
       " '/home/u12215/deep-soli/SoliData_tmp/dsp/1_2_21.h5',\n",
       " '/home/u12215/deep-soli/SoliData_tmp/dsp/1_2_22.h5',\n",
       " '/home/u12215/deep-soli/SoliData_tmp/dsp/1_2_23.h5',\n",
       " '/home/u12215/deep-soli/SoliData_tmp/dsp/1_2_24.h5',\n",
       " '/home/u12215/deep-soli/SoliData_tmp/dsp/1_3_0.h5',\n",
       " '/home/u12215/deep-soli/SoliData_tmp/dsp/1_3_1.h5',\n",
       " '/home/u12215/deep-soli/SoliData_tmp/dsp/1_3_2.h5',\n",
       " '/home/u12215/deep-soli/SoliData_tmp/dsp/1_3_3.h5',\n",
       " '/home/u12215/deep-soli/SoliData_tmp/dsp/1_3_4.h5',\n",
       " '/home/u12215/deep-soli/SoliData_tmp/dsp/1_3_5.h5',\n",
       " '/home/u12215/deep-soli/SoliData_tmp/dsp/1_3_6.h5',\n",
       " '/home/u12215/deep-soli/SoliData_tmp/dsp/1_3_7.h5',\n",
       " '/home/u12215/deep-soli/SoliData_tmp/dsp/1_3_8.h5',\n",
       " '/home/u12215/deep-soli/SoliData_tmp/dsp/1_3_9.h5',\n",
       " '/home/u12215/deep-soli/SoliData_tmp/dsp/1_3_10.h5',\n",
       " '/home/u12215/deep-soli/SoliData_tmp/dsp/1_3_11.h5',\n",
       " '/home/u12215/deep-soli/SoliData_tmp/dsp/1_3_12.h5',\n",
       " '/home/u12215/deep-soli/SoliData_tmp/dsp/1_3_13.h5',\n",
       " '/home/u12215/deep-soli/SoliData_tmp/dsp/1_3_14.h5',\n",
       " '/home/u12215/deep-soli/SoliData_tmp/dsp/1_3_15.h5',\n",
       " '/home/u12215/deep-soli/SoliData_tmp/dsp/1_3_16.h5',\n",
       " '/home/u12215/deep-soli/SoliData_tmp/dsp/1_3_17.h5',\n",
       " '/home/u12215/deep-soli/SoliData_tmp/dsp/1_3_18.h5',\n",
       " '/home/u12215/deep-soli/SoliData_tmp/dsp/1_3_19.h5',\n",
       " '/home/u12215/deep-soli/SoliData_tmp/dsp/1_3_20.h5',\n",
       " '/home/u12215/deep-soli/SoliData_tmp/dsp/1_3_21.h5',\n",
       " '/home/u12215/deep-soli/SoliData_tmp/dsp/1_3_22.h5',\n",
       " '/home/u12215/deep-soli/SoliData_tmp/dsp/1_3_23.h5',\n",
       " '/home/u12215/deep-soli/SoliData_tmp/dsp/1_3_24.h5',\n",
       " '/home/u12215/deep-soli/SoliData_tmp/dsp/1_4_0.h5',\n",
       " '/home/u12215/deep-soli/SoliData_tmp/dsp/1_4_1.h5',\n",
       " '/home/u12215/deep-soli/SoliData_tmp/dsp/1_4_2.h5',\n",
       " '/home/u12215/deep-soli/SoliData_tmp/dsp/1_4_3.h5',\n",
       " '/home/u12215/deep-soli/SoliData_tmp/dsp/1_4_4.h5',\n",
       " '/home/u12215/deep-soli/SoliData_tmp/dsp/1_4_5.h5',\n",
       " '/home/u12215/deep-soli/SoliData_tmp/dsp/1_4_6.h5',\n",
       " '/home/u12215/deep-soli/SoliData_tmp/dsp/1_4_7.h5',\n",
       " '/home/u12215/deep-soli/SoliData_tmp/dsp/1_4_8.h5',\n",
       " '/home/u12215/deep-soli/SoliData_tmp/dsp/1_4_9.h5',\n",
       " '/home/u12215/deep-soli/SoliData_tmp/dsp/1_4_10.h5',\n",
       " '/home/u12215/deep-soli/SoliData_tmp/dsp/1_4_11.h5',\n",
       " '/home/u12215/deep-soli/SoliData_tmp/dsp/1_4_12.h5',\n",
       " '/home/u12215/deep-soli/SoliData_tmp/dsp/1_4_13.h5',\n",
       " '/home/u12215/deep-soli/SoliData_tmp/dsp/1_4_14.h5',\n",
       " '/home/u12215/deep-soli/SoliData_tmp/dsp/1_4_15.h5',\n",
       " '/home/u12215/deep-soli/SoliData_tmp/dsp/1_4_16.h5',\n",
       " '/home/u12215/deep-soli/SoliData_tmp/dsp/1_4_17.h5',\n",
       " '/home/u12215/deep-soli/SoliData_tmp/dsp/1_4_18.h5',\n",
       " '/home/u12215/deep-soli/SoliData_tmp/dsp/1_4_19.h5',\n",
       " '/home/u12215/deep-soli/SoliData_tmp/dsp/1_4_20.h5',\n",
       " '/home/u12215/deep-soli/SoliData_tmp/dsp/1_4_21.h5',\n",
       " '/home/u12215/deep-soli/SoliData_tmp/dsp/1_4_22.h5',\n",
       " '/home/u12215/deep-soli/SoliData_tmp/dsp/1_4_23.h5',\n",
       " '/home/u12215/deep-soli/SoliData_tmp/dsp/1_4_24.h5',\n",
       " '/home/u12215/deep-soli/SoliData_tmp/dsp/1_5_0.h5',\n",
       " '/home/u12215/deep-soli/SoliData_tmp/dsp/1_5_1.h5',\n",
       " '/home/u12215/deep-soli/SoliData_tmp/dsp/1_5_2.h5',\n",
       " '/home/u12215/deep-soli/SoliData_tmp/dsp/1_5_3.h5',\n",
       " '/home/u12215/deep-soli/SoliData_tmp/dsp/1_5_4.h5',\n",
       " '/home/u12215/deep-soli/SoliData_tmp/dsp/1_5_5.h5',\n",
       " '/home/u12215/deep-soli/SoliData_tmp/dsp/1_5_6.h5',\n",
       " '/home/u12215/deep-soli/SoliData_tmp/dsp/1_5_7.h5',\n",
       " '/home/u12215/deep-soli/SoliData_tmp/dsp/1_5_8.h5',\n",
       " '/home/u12215/deep-soli/SoliData_tmp/dsp/1_5_9.h5',\n",
       " '/home/u12215/deep-soli/SoliData_tmp/dsp/1_5_10.h5',\n",
       " '/home/u12215/deep-soli/SoliData_tmp/dsp/1_5_11.h5',\n",
       " '/home/u12215/deep-soli/SoliData_tmp/dsp/1_5_12.h5',\n",
       " '/home/u12215/deep-soli/SoliData_tmp/dsp/1_5_13.h5',\n",
       " '/home/u12215/deep-soli/SoliData_tmp/dsp/1_5_14.h5',\n",
       " '/home/u12215/deep-soli/SoliData_tmp/dsp/1_5_15.h5',\n",
       " '/home/u12215/deep-soli/SoliData_tmp/dsp/1_5_16.h5',\n",
       " '/home/u12215/deep-soli/SoliData_tmp/dsp/1_5_17.h5',\n",
       " '/home/u12215/deep-soli/SoliData_tmp/dsp/1_5_18.h5',\n",
       " '/home/u12215/deep-soli/SoliData_tmp/dsp/1_5_19.h5',\n",
       " '/home/u12215/deep-soli/SoliData_tmp/dsp/1_5_20.h5',\n",
       " '/home/u12215/deep-soli/SoliData_tmp/dsp/1_5_21.h5',\n",
       " '/home/u12215/deep-soli/SoliData_tmp/dsp/1_5_22.h5',\n",
       " '/home/u12215/deep-soli/SoliData_tmp/dsp/1_5_23.h5',\n",
       " '/home/u12215/deep-soli/SoliData_tmp/dsp/1_5_24.h5',\n",
       " '/home/u12215/deep-soli/SoliData_tmp/dsp/1_6_0.h5',\n",
       " '/home/u12215/deep-soli/SoliData_tmp/dsp/1_6_1.h5',\n",
       " '/home/u12215/deep-soli/SoliData_tmp/dsp/1_6_2.h5',\n",
       " '/home/u12215/deep-soli/SoliData_tmp/dsp/1_6_3.h5',\n",
       " '/home/u12215/deep-soli/SoliData_tmp/dsp/1_6_4.h5',\n",
       " '/home/u12215/deep-soli/SoliData_tmp/dsp/1_6_5.h5',\n",
       " '/home/u12215/deep-soli/SoliData_tmp/dsp/1_6_6.h5',\n",
       " '/home/u12215/deep-soli/SoliData_tmp/dsp/1_6_7.h5',\n",
       " '/home/u12215/deep-soli/SoliData_tmp/dsp/1_6_8.h5',\n",
       " '/home/u12215/deep-soli/SoliData_tmp/dsp/1_6_9.h5',\n",
       " '/home/u12215/deep-soli/SoliData_tmp/dsp/1_6_10.h5',\n",
       " '/home/u12215/deep-soli/SoliData_tmp/dsp/1_6_11.h5',\n",
       " '/home/u12215/deep-soli/SoliData_tmp/dsp/1_6_12.h5',\n",
       " '/home/u12215/deep-soli/SoliData_tmp/dsp/1_6_13.h5',\n",
       " '/home/u12215/deep-soli/SoliData_tmp/dsp/1_6_14.h5',\n",
       " '/home/u12215/deep-soli/SoliData_tmp/dsp/1_6_15.h5',\n",
       " '/home/u12215/deep-soli/SoliData_tmp/dsp/1_6_16.h5',\n",
       " '/home/u12215/deep-soli/SoliData_tmp/dsp/1_6_17.h5',\n",
       " '/home/u12215/deep-soli/SoliData_tmp/dsp/1_6_18.h5',\n",
       " '/home/u12215/deep-soli/SoliData_tmp/dsp/1_6_19.h5',\n",
       " '/home/u12215/deep-soli/SoliData_tmp/dsp/1_6_20.h5',\n",
       " '/home/u12215/deep-soli/SoliData_tmp/dsp/1_6_21.h5',\n",
       " '/home/u12215/deep-soli/SoliData_tmp/dsp/1_6_22.h5',\n",
       " '/home/u12215/deep-soli/SoliData_tmp/dsp/1_6_23.h5',\n",
       " '/home/u12215/deep-soli/SoliData_tmp/dsp/1_6_24.h5',\n",
       " '/home/u12215/deep-soli/SoliData_tmp/dsp/1_7_0.h5',\n",
       " '/home/u12215/deep-soli/SoliData_tmp/dsp/1_7_1.h5',\n",
       " '/home/u12215/deep-soli/SoliData_tmp/dsp/1_7_2.h5',\n",
       " '/home/u12215/deep-soli/SoliData_tmp/dsp/1_7_3.h5',\n",
       " '/home/u12215/deep-soli/SoliData_tmp/dsp/1_7_4.h5',\n",
       " '/home/u12215/deep-soli/SoliData_tmp/dsp/1_7_5.h5',\n",
       " '/home/u12215/deep-soli/SoliData_tmp/dsp/1_7_6.h5',\n",
       " '/home/u12215/deep-soli/SoliData_tmp/dsp/1_7_7.h5',\n",
       " '/home/u12215/deep-soli/SoliData_tmp/dsp/1_7_8.h5',\n",
       " '/home/u12215/deep-soli/SoliData_tmp/dsp/1_7_9.h5',\n",
       " '/home/u12215/deep-soli/SoliData_tmp/dsp/1_7_10.h5',\n",
       " '/home/u12215/deep-soli/SoliData_tmp/dsp/1_7_11.h5',\n",
       " '/home/u12215/deep-soli/SoliData_tmp/dsp/1_7_12.h5',\n",
       " '/home/u12215/deep-soli/SoliData_tmp/dsp/1_7_13.h5',\n",
       " '/home/u12215/deep-soli/SoliData_tmp/dsp/1_7_14.h5',\n",
       " '/home/u12215/deep-soli/SoliData_tmp/dsp/1_7_15.h5',\n",
       " '/home/u12215/deep-soli/SoliData_tmp/dsp/1_7_16.h5',\n",
       " '/home/u12215/deep-soli/SoliData_tmp/dsp/1_7_17.h5',\n",
       " '/home/u12215/deep-soli/SoliData_tmp/dsp/1_7_18.h5',\n",
       " '/home/u12215/deep-soli/SoliData_tmp/dsp/1_7_19.h5',\n",
       " '/home/u12215/deep-soli/SoliData_tmp/dsp/1_7_20.h5',\n",
       " '/home/u12215/deep-soli/SoliData_tmp/dsp/1_7_21.h5',\n",
       " '/home/u12215/deep-soli/SoliData_tmp/dsp/1_7_22.h5',\n",
       " '/home/u12215/deep-soli/SoliData_tmp/dsp/1_7_23.h5',\n",
       " '/home/u12215/deep-soli/SoliData_tmp/dsp/1_7_24.h5',\n",
       " '/home/u12215/deep-soli/SoliData_tmp/dsp/1_8_0.h5',\n",
       " '/home/u12215/deep-soli/SoliData_tmp/dsp/1_8_1.h5',\n",
       " '/home/u12215/deep-soli/SoliData_tmp/dsp/1_8_2.h5',\n",
       " '/home/u12215/deep-soli/SoliData_tmp/dsp/1_8_3.h5',\n",
       " '/home/u12215/deep-soli/SoliData_tmp/dsp/1_8_4.h5',\n",
       " '/home/u12215/deep-soli/SoliData_tmp/dsp/1_8_5.h5',\n",
       " '/home/u12215/deep-soli/SoliData_tmp/dsp/1_8_6.h5',\n",
       " '/home/u12215/deep-soli/SoliData_tmp/dsp/1_8_7.h5',\n",
       " '/home/u12215/deep-soli/SoliData_tmp/dsp/1_8_8.h5',\n",
       " '/home/u12215/deep-soli/SoliData_tmp/dsp/1_8_9.h5',\n",
       " '/home/u12215/deep-soli/SoliData_tmp/dsp/1_8_10.h5',\n",
       " '/home/u12215/deep-soli/SoliData_tmp/dsp/1_8_11.h5',\n",
       " '/home/u12215/deep-soli/SoliData_tmp/dsp/1_8_12.h5',\n",
       " '/home/u12215/deep-soli/SoliData_tmp/dsp/1_8_13.h5',\n",
       " '/home/u12215/deep-soli/SoliData_tmp/dsp/1_8_14.h5',\n",
       " '/home/u12215/deep-soli/SoliData_tmp/dsp/1_8_15.h5',\n",
       " '/home/u12215/deep-soli/SoliData_tmp/dsp/1_8_16.h5',\n",
       " '/home/u12215/deep-soli/SoliData_tmp/dsp/1_8_17.h5',\n",
       " '/home/u12215/deep-soli/SoliData_tmp/dsp/1_8_18.h5',\n",
       " '/home/u12215/deep-soli/SoliData_tmp/dsp/1_8_19.h5',\n",
       " '/home/u12215/deep-soli/SoliData_tmp/dsp/1_8_20.h5',\n",
       " '/home/u12215/deep-soli/SoliData_tmp/dsp/1_8_21.h5',\n",
       " '/home/u12215/deep-soli/SoliData_tmp/dsp/1_8_22.h5',\n",
       " '/home/u12215/deep-soli/SoliData_tmp/dsp/1_8_23.h5',\n",
       " '/home/u12215/deep-soli/SoliData_tmp/dsp/1_8_24.h5',\n",
       " '/home/u12215/deep-soli/SoliData_tmp/dsp/1_9_0.h5',\n",
       " '/home/u12215/deep-soli/SoliData_tmp/dsp/1_9_1.h5',\n",
       " '/home/u12215/deep-soli/SoliData_tmp/dsp/1_9_2.h5',\n",
       " '/home/u12215/deep-soli/SoliData_tmp/dsp/1_9_3.h5',\n",
       " '/home/u12215/deep-soli/SoliData_tmp/dsp/1_9_4.h5',\n",
       " '/home/u12215/deep-soli/SoliData_tmp/dsp/1_9_5.h5',\n",
       " '/home/u12215/deep-soli/SoliData_tmp/dsp/1_9_6.h5',\n",
       " '/home/u12215/deep-soli/SoliData_tmp/dsp/1_9_7.h5',\n",
       " '/home/u12215/deep-soli/SoliData_tmp/dsp/1_9_8.h5',\n",
       " '/home/u12215/deep-soli/SoliData_tmp/dsp/1_9_9.h5',\n",
       " '/home/u12215/deep-soli/SoliData_tmp/dsp/1_9_10.h5',\n",
       " '/home/u12215/deep-soli/SoliData_tmp/dsp/1_9_11.h5',\n",
       " '/home/u12215/deep-soli/SoliData_tmp/dsp/1_9_12.h5',\n",
       " '/home/u12215/deep-soli/SoliData_tmp/dsp/1_9_13.h5',\n",
       " '/home/u12215/deep-soli/SoliData_tmp/dsp/1_9_14.h5',\n",
       " '/home/u12215/deep-soli/SoliData_tmp/dsp/1_9_15.h5',\n",
       " '/home/u12215/deep-soli/SoliData_tmp/dsp/1_9_16.h5',\n",
       " '/home/u12215/deep-soli/SoliData_tmp/dsp/1_9_17.h5',\n",
       " '/home/u12215/deep-soli/SoliData_tmp/dsp/1_9_18.h5',\n",
       " '/home/u12215/deep-soli/SoliData_tmp/dsp/1_9_19.h5',\n",
       " '/home/u12215/deep-soli/SoliData_tmp/dsp/1_9_20.h5',\n",
       " '/home/u12215/deep-soli/SoliData_tmp/dsp/1_9_21.h5',\n",
       " '/home/u12215/deep-soli/SoliData_tmp/dsp/1_9_22.h5',\n",
       " '/home/u12215/deep-soli/SoliData_tmp/dsp/1_9_23.h5',\n",
       " '/home/u12215/deep-soli/SoliData_tmp/dsp/1_9_24.h5',\n",
       " '/home/u12215/deep-soli/SoliData_tmp/dsp/2_0_0.h5',\n",
       " '/home/u12215/deep-soli/SoliData_tmp/dsp/2_0_1.h5',\n",
       " '/home/u12215/deep-soli/SoliData_tmp/dsp/2_0_2.h5',\n",
       " '/home/u12215/deep-soli/SoliData_tmp/dsp/2_0_3.h5',\n",
       " '/home/u12215/deep-soli/SoliData_tmp/dsp/2_0_4.h5',\n",
       " '/home/u12215/deep-soli/SoliData_tmp/dsp/2_0_5.h5',\n",
       " '/home/u12215/deep-soli/SoliData_tmp/dsp/2_0_6.h5',\n",
       " '/home/u12215/deep-soli/SoliData_tmp/dsp/2_0_7.h5',\n",
       " '/home/u12215/deep-soli/SoliData_tmp/dsp/2_0_8.h5',\n",
       " '/home/u12215/deep-soli/SoliData_tmp/dsp/2_0_9.h5',\n",
       " '/home/u12215/deep-soli/SoliData_tmp/dsp/2_0_10.h5',\n",
       " '/home/u12215/deep-soli/SoliData_tmp/dsp/2_0_11.h5',\n",
       " '/home/u12215/deep-soli/SoliData_tmp/dsp/2_0_12.h5',\n",
       " '/home/u12215/deep-soli/SoliData_tmp/dsp/2_0_13.h5',\n",
       " '/home/u12215/deep-soli/SoliData_tmp/dsp/2_0_14.h5',\n",
       " '/home/u12215/deep-soli/SoliData_tmp/dsp/2_0_15.h5',\n",
       " '/home/u12215/deep-soli/SoliData_tmp/dsp/2_0_16.h5',\n",
       " '/home/u12215/deep-soli/SoliData_tmp/dsp/2_0_17.h5',\n",
       " '/home/u12215/deep-soli/SoliData_tmp/dsp/2_0_18.h5',\n",
       " '/home/u12215/deep-soli/SoliData_tmp/dsp/2_0_19.h5',\n",
       " '/home/u12215/deep-soli/SoliData_tmp/dsp/2_0_20.h5',\n",
       " '/home/u12215/deep-soli/SoliData_tmp/dsp/2_0_21.h5',\n",
       " '/home/u12215/deep-soli/SoliData_tmp/dsp/2_0_22.h5',\n",
       " '/home/u12215/deep-soli/SoliData_tmp/dsp/2_0_23.h5',\n",
       " '/home/u12215/deep-soli/SoliData_tmp/dsp/2_0_24.h5',\n",
       " '/home/u12215/deep-soli/SoliData_tmp/dsp/2_1_0.h5',\n",
       " '/home/u12215/deep-soli/SoliData_tmp/dsp/2_1_1.h5',\n",
       " '/home/u12215/deep-soli/SoliData_tmp/dsp/2_1_2.h5',\n",
       " '/home/u12215/deep-soli/SoliData_tmp/dsp/2_1_3.h5',\n",
       " '/home/u12215/deep-soli/SoliData_tmp/dsp/2_1_4.h5',\n",
       " '/home/u12215/deep-soli/SoliData_tmp/dsp/2_1_5.h5',\n",
       " '/home/u12215/deep-soli/SoliData_tmp/dsp/2_1_6.h5',\n",
       " '/home/u12215/deep-soli/SoliData_tmp/dsp/2_1_7.h5',\n",
       " '/home/u12215/deep-soli/SoliData_tmp/dsp/2_1_8.h5',\n",
       " '/home/u12215/deep-soli/SoliData_tmp/dsp/2_1_9.h5',\n",
       " '/home/u12215/deep-soli/SoliData_tmp/dsp/2_1_10.h5',\n",
       " '/home/u12215/deep-soli/SoliData_tmp/dsp/2_1_11.h5',\n",
       " '/home/u12215/deep-soli/SoliData_tmp/dsp/2_1_12.h5',\n",
       " '/home/u12215/deep-soli/SoliData_tmp/dsp/2_1_13.h5',\n",
       " '/home/u12215/deep-soli/SoliData_tmp/dsp/2_1_14.h5',\n",
       " '/home/u12215/deep-soli/SoliData_tmp/dsp/2_1_15.h5',\n",
       " '/home/u12215/deep-soli/SoliData_tmp/dsp/2_1_16.h5',\n",
       " '/home/u12215/deep-soli/SoliData_tmp/dsp/2_1_17.h5',\n",
       " '/home/u12215/deep-soli/SoliData_tmp/dsp/2_1_18.h5',\n",
       " '/home/u12215/deep-soli/SoliData_tmp/dsp/2_1_19.h5',\n",
       " '/home/u12215/deep-soli/SoliData_tmp/dsp/2_1_20.h5',\n",
       " '/home/u12215/deep-soli/SoliData_tmp/dsp/2_1_21.h5',\n",
       " '/home/u12215/deep-soli/SoliData_tmp/dsp/2_1_22.h5',\n",
       " '/home/u12215/deep-soli/SoliData_tmp/dsp/2_1_23.h5',\n",
       " '/home/u12215/deep-soli/SoliData_tmp/dsp/2_1_24.h5',\n",
       " '/home/u12215/deep-soli/SoliData_tmp/dsp/2_2_0.h5',\n",
       " '/home/u12215/deep-soli/SoliData_tmp/dsp/2_2_1.h5',\n",
       " '/home/u12215/deep-soli/SoliData_tmp/dsp/2_2_2.h5',\n",
       " '/home/u12215/deep-soli/SoliData_tmp/dsp/2_2_3.h5',\n",
       " '/home/u12215/deep-soli/SoliData_tmp/dsp/2_2_4.h5',\n",
       " '/home/u12215/deep-soli/SoliData_tmp/dsp/2_2_5.h5',\n",
       " '/home/u12215/deep-soli/SoliData_tmp/dsp/2_2_6.h5',\n",
       " '/home/u12215/deep-soli/SoliData_tmp/dsp/2_2_7.h5',\n",
       " '/home/u12215/deep-soli/SoliData_tmp/dsp/2_2_8.h5',\n",
       " '/home/u12215/deep-soli/SoliData_tmp/dsp/2_2_9.h5',\n",
       " '/home/u12215/deep-soli/SoliData_tmp/dsp/2_2_10.h5',\n",
       " '/home/u12215/deep-soli/SoliData_tmp/dsp/2_2_11.h5',\n",
       " '/home/u12215/deep-soli/SoliData_tmp/dsp/2_2_12.h5',\n",
       " '/home/u12215/deep-soli/SoliData_tmp/dsp/2_2_13.h5',\n",
       " '/home/u12215/deep-soli/SoliData_tmp/dsp/2_2_14.h5',\n",
       " '/home/u12215/deep-soli/SoliData_tmp/dsp/2_2_15.h5',\n",
       " '/home/u12215/deep-soli/SoliData_tmp/dsp/2_2_16.h5',\n",
       " '/home/u12215/deep-soli/SoliData_tmp/dsp/2_2_17.h5',\n",
       " '/home/u12215/deep-soli/SoliData_tmp/dsp/2_2_18.h5',\n",
       " '/home/u12215/deep-soli/SoliData_tmp/dsp/2_2_19.h5',\n",
       " '/home/u12215/deep-soli/SoliData_tmp/dsp/2_2_20.h5',\n",
       " '/home/u12215/deep-soli/SoliData_tmp/dsp/2_2_21.h5',\n",
       " '/home/u12215/deep-soli/SoliData_tmp/dsp/2_2_22.h5',\n",
       " '/home/u12215/deep-soli/SoliData_tmp/dsp/2_2_23.h5',\n",
       " '/home/u12215/deep-soli/SoliData_tmp/dsp/2_2_24.h5',\n",
       " '/home/u12215/deep-soli/SoliData_tmp/dsp/2_3_0.h5',\n",
       " '/home/u12215/deep-soli/SoliData_tmp/dsp/2_3_1.h5',\n",
       " '/home/u12215/deep-soli/SoliData_tmp/dsp/2_3_2.h5',\n",
       " '/home/u12215/deep-soli/SoliData_tmp/dsp/2_3_3.h5',\n",
       " '/home/u12215/deep-soli/SoliData_tmp/dsp/2_3_4.h5',\n",
       " '/home/u12215/deep-soli/SoliData_tmp/dsp/2_3_5.h5',\n",
       " '/home/u12215/deep-soli/SoliData_tmp/dsp/2_3_6.h5',\n",
       " '/home/u12215/deep-soli/SoliData_tmp/dsp/2_3_7.h5',\n",
       " '/home/u12215/deep-soli/SoliData_tmp/dsp/2_3_8.h5',\n",
       " '/home/u12215/deep-soli/SoliData_tmp/dsp/2_3_9.h5',\n",
       " '/home/u12215/deep-soli/SoliData_tmp/dsp/2_3_10.h5',\n",
       " '/home/u12215/deep-soli/SoliData_tmp/dsp/2_3_11.h5',\n",
       " '/home/u12215/deep-soli/SoliData_tmp/dsp/2_3_12.h5',\n",
       " '/home/u12215/deep-soli/SoliData_tmp/dsp/2_3_13.h5',\n",
       " '/home/u12215/deep-soli/SoliData_tmp/dsp/2_3_14.h5',\n",
       " '/home/u12215/deep-soli/SoliData_tmp/dsp/2_3_15.h5',\n",
       " '/home/u12215/deep-soli/SoliData_tmp/dsp/2_3_16.h5',\n",
       " '/home/u12215/deep-soli/SoliData_tmp/dsp/2_3_17.h5',\n",
       " '/home/u12215/deep-soli/SoliData_tmp/dsp/2_3_18.h5',\n",
       " '/home/u12215/deep-soli/SoliData_tmp/dsp/2_3_19.h5',\n",
       " '/home/u12215/deep-soli/SoliData_tmp/dsp/2_3_20.h5',\n",
       " '/home/u12215/deep-soli/SoliData_tmp/dsp/2_3_21.h5',\n",
       " '/home/u12215/deep-soli/SoliData_tmp/dsp/2_3_22.h5',\n",
       " '/home/u12215/deep-soli/SoliData_tmp/dsp/2_3_23.h5',\n",
       " '/home/u12215/deep-soli/SoliData_tmp/dsp/2_3_24.h5',\n",
       " '/home/u12215/deep-soli/SoliData_tmp/dsp/2_4_0.h5',\n",
       " '/home/u12215/deep-soli/SoliData_tmp/dsp/2_4_1.h5',\n",
       " '/home/u12215/deep-soli/SoliData_tmp/dsp/2_4_2.h5',\n",
       " '/home/u12215/deep-soli/SoliData_tmp/dsp/2_4_3.h5',\n",
       " '/home/u12215/deep-soli/SoliData_tmp/dsp/2_4_4.h5',\n",
       " '/home/u12215/deep-soli/SoliData_tmp/dsp/2_4_5.h5',\n",
       " '/home/u12215/deep-soli/SoliData_tmp/dsp/2_4_6.h5',\n",
       " '/home/u12215/deep-soli/SoliData_tmp/dsp/2_4_7.h5',\n",
       " '/home/u12215/deep-soli/SoliData_tmp/dsp/2_4_8.h5',\n",
       " '/home/u12215/deep-soli/SoliData_tmp/dsp/2_4_9.h5',\n",
       " '/home/u12215/deep-soli/SoliData_tmp/dsp/2_4_10.h5',\n",
       " '/home/u12215/deep-soli/SoliData_tmp/dsp/2_4_11.h5',\n",
       " '/home/u12215/deep-soli/SoliData_tmp/dsp/2_4_12.h5',\n",
       " '/home/u12215/deep-soli/SoliData_tmp/dsp/2_4_13.h5',\n",
       " '/home/u12215/deep-soli/SoliData_tmp/dsp/2_4_14.h5',\n",
       " '/home/u12215/deep-soli/SoliData_tmp/dsp/2_4_15.h5',\n",
       " '/home/u12215/deep-soli/SoliData_tmp/dsp/2_4_16.h5',\n",
       " '/home/u12215/deep-soli/SoliData_tmp/dsp/2_4_17.h5',\n",
       " '/home/u12215/deep-soli/SoliData_tmp/dsp/2_4_18.h5',\n",
       " '/home/u12215/deep-soli/SoliData_tmp/dsp/2_4_19.h5',\n",
       " '/home/u12215/deep-soli/SoliData_tmp/dsp/2_4_20.h5',\n",
       " '/home/u12215/deep-soli/SoliData_tmp/dsp/2_4_21.h5',\n",
       " '/home/u12215/deep-soli/SoliData_tmp/dsp/2_4_22.h5',\n",
       " '/home/u12215/deep-soli/SoliData_tmp/dsp/2_4_23.h5',\n",
       " '/home/u12215/deep-soli/SoliData_tmp/dsp/2_4_24.h5',\n",
       " '/home/u12215/deep-soli/SoliData_tmp/dsp/2_5_0.h5',\n",
       " '/home/u12215/deep-soli/SoliData_tmp/dsp/2_5_1.h5',\n",
       " '/home/u12215/deep-soli/SoliData_tmp/dsp/2_5_2.h5',\n",
       " '/home/u12215/deep-soli/SoliData_tmp/dsp/2_5_3.h5',\n",
       " '/home/u12215/deep-soli/SoliData_tmp/dsp/2_5_4.h5',\n",
       " '/home/u12215/deep-soli/SoliData_tmp/dsp/2_5_5.h5',\n",
       " '/home/u12215/deep-soli/SoliData_tmp/dsp/2_5_6.h5',\n",
       " '/home/u12215/deep-soli/SoliData_tmp/dsp/2_5_7.h5',\n",
       " '/home/u12215/deep-soli/SoliData_tmp/dsp/2_5_8.h5',\n",
       " '/home/u12215/deep-soli/SoliData_tmp/dsp/2_5_9.h5',\n",
       " '/home/u12215/deep-soli/SoliData_tmp/dsp/2_5_10.h5',\n",
       " '/home/u12215/deep-soli/SoliData_tmp/dsp/2_5_11.h5',\n",
       " '/home/u12215/deep-soli/SoliData_tmp/dsp/2_5_12.h5',\n",
       " '/home/u12215/deep-soli/SoliData_tmp/dsp/2_5_13.h5',\n",
       " '/home/u12215/deep-soli/SoliData_tmp/dsp/2_5_14.h5',\n",
       " '/home/u12215/deep-soli/SoliData_tmp/dsp/2_5_15.h5',\n",
       " '/home/u12215/deep-soli/SoliData_tmp/dsp/2_5_16.h5',\n",
       " '/home/u12215/deep-soli/SoliData_tmp/dsp/2_5_17.h5',\n",
       " '/home/u12215/deep-soli/SoliData_tmp/dsp/2_5_18.h5',\n",
       " '/home/u12215/deep-soli/SoliData_tmp/dsp/2_5_19.h5',\n",
       " '/home/u12215/deep-soli/SoliData_tmp/dsp/2_5_20.h5',\n",
       " '/home/u12215/deep-soli/SoliData_tmp/dsp/2_5_21.h5',\n",
       " '/home/u12215/deep-soli/SoliData_tmp/dsp/2_5_22.h5',\n",
       " '/home/u12215/deep-soli/SoliData_tmp/dsp/2_5_23.h5',\n",
       " '/home/u12215/deep-soli/SoliData_tmp/dsp/2_5_24.h5',\n",
       " '/home/u12215/deep-soli/SoliData_tmp/dsp/2_6_0.h5',\n",
       " '/home/u12215/deep-soli/SoliData_tmp/dsp/2_6_1.h5',\n",
       " '/home/u12215/deep-soli/SoliData_tmp/dsp/2_6_2.h5',\n",
       " '/home/u12215/deep-soli/SoliData_tmp/dsp/2_6_3.h5',\n",
       " '/home/u12215/deep-soli/SoliData_tmp/dsp/2_6_4.h5',\n",
       " '/home/u12215/deep-soli/SoliData_tmp/dsp/2_6_5.h5',\n",
       " '/home/u12215/deep-soli/SoliData_tmp/dsp/2_6_6.h5',\n",
       " '/home/u12215/deep-soli/SoliData_tmp/dsp/2_6_7.h5',\n",
       " '/home/u12215/deep-soli/SoliData_tmp/dsp/2_6_8.h5',\n",
       " '/home/u12215/deep-soli/SoliData_tmp/dsp/2_6_9.h5',\n",
       " '/home/u12215/deep-soli/SoliData_tmp/dsp/2_6_10.h5',\n",
       " '/home/u12215/deep-soli/SoliData_tmp/dsp/2_6_11.h5',\n",
       " '/home/u12215/deep-soli/SoliData_tmp/dsp/2_6_12.h5',\n",
       " '/home/u12215/deep-soli/SoliData_tmp/dsp/2_6_13.h5',\n",
       " '/home/u12215/deep-soli/SoliData_tmp/dsp/2_6_14.h5',\n",
       " '/home/u12215/deep-soli/SoliData_tmp/dsp/2_6_15.h5',\n",
       " '/home/u12215/deep-soli/SoliData_tmp/dsp/2_6_16.h5',\n",
       " '/home/u12215/deep-soli/SoliData_tmp/dsp/2_6_17.h5',\n",
       " '/home/u12215/deep-soli/SoliData_tmp/dsp/2_6_18.h5',\n",
       " '/home/u12215/deep-soli/SoliData_tmp/dsp/2_6_19.h5',\n",
       " '/home/u12215/deep-soli/SoliData_tmp/dsp/2_6_20.h5',\n",
       " '/home/u12215/deep-soli/SoliData_tmp/dsp/2_6_21.h5',\n",
       " '/home/u12215/deep-soli/SoliData_tmp/dsp/2_6_22.h5',\n",
       " '/home/u12215/deep-soli/SoliData_tmp/dsp/2_6_23.h5',\n",
       " '/home/u12215/deep-soli/SoliData_tmp/dsp/2_6_24.h5',\n",
       " '/home/u12215/deep-soli/SoliData_tmp/dsp/2_7_0.h5',\n",
       " '/home/u12215/deep-soli/SoliData_tmp/dsp/2_7_1.h5',\n",
       " '/home/u12215/deep-soli/SoliData_tmp/dsp/2_7_2.h5',\n",
       " '/home/u12215/deep-soli/SoliData_tmp/dsp/2_7_3.h5',\n",
       " '/home/u12215/deep-soli/SoliData_tmp/dsp/2_7_4.h5',\n",
       " '/home/u12215/deep-soli/SoliData_tmp/dsp/2_7_5.h5',\n",
       " '/home/u12215/deep-soli/SoliData_tmp/dsp/2_7_6.h5',\n",
       " '/home/u12215/deep-soli/SoliData_tmp/dsp/2_7_7.h5',\n",
       " '/home/u12215/deep-soli/SoliData_tmp/dsp/2_7_8.h5',\n",
       " '/home/u12215/deep-soli/SoliData_tmp/dsp/2_7_9.h5',\n",
       " '/home/u12215/deep-soli/SoliData_tmp/dsp/2_7_10.h5',\n",
       " '/home/u12215/deep-soli/SoliData_tmp/dsp/2_7_11.h5',\n",
       " '/home/u12215/deep-soli/SoliData_tmp/dsp/2_7_12.h5',\n",
       " '/home/u12215/deep-soli/SoliData_tmp/dsp/2_7_13.h5',\n",
       " '/home/u12215/deep-soli/SoliData_tmp/dsp/2_7_14.h5',\n",
       " '/home/u12215/deep-soli/SoliData_tmp/dsp/2_7_15.h5',\n",
       " '/home/u12215/deep-soli/SoliData_tmp/dsp/2_7_16.h5',\n",
       " '/home/u12215/deep-soli/SoliData_tmp/dsp/2_7_17.h5',\n",
       " '/home/u12215/deep-soli/SoliData_tmp/dsp/2_7_18.h5',\n",
       " '/home/u12215/deep-soli/SoliData_tmp/dsp/2_7_19.h5',\n",
       " '/home/u12215/deep-soli/SoliData_tmp/dsp/2_7_20.h5',\n",
       " '/home/u12215/deep-soli/SoliData_tmp/dsp/2_7_21.h5',\n",
       " '/home/u12215/deep-soli/SoliData_tmp/dsp/2_7_22.h5',\n",
       " '/home/u12215/deep-soli/SoliData_tmp/dsp/2_7_23.h5',\n",
       " '/home/u12215/deep-soli/SoliData_tmp/dsp/2_7_24.h5',\n",
       " '/home/u12215/deep-soli/SoliData_tmp/dsp/2_8_0.h5',\n",
       " '/home/u12215/deep-soli/SoliData_tmp/dsp/2_8_1.h5',\n",
       " '/home/u12215/deep-soli/SoliData_tmp/dsp/2_8_2.h5',\n",
       " '/home/u12215/deep-soli/SoliData_tmp/dsp/2_8_3.h5',\n",
       " '/home/u12215/deep-soli/SoliData_tmp/dsp/2_8_4.h5',\n",
       " '/home/u12215/deep-soli/SoliData_tmp/dsp/2_8_5.h5',\n",
       " '/home/u12215/deep-soli/SoliData_tmp/dsp/2_8_6.h5',\n",
       " '/home/u12215/deep-soli/SoliData_tmp/dsp/2_8_7.h5',\n",
       " '/home/u12215/deep-soli/SoliData_tmp/dsp/2_8_8.h5',\n",
       " '/home/u12215/deep-soli/SoliData_tmp/dsp/2_8_9.h5',\n",
       " '/home/u12215/deep-soli/SoliData_tmp/dsp/2_8_10.h5',\n",
       " '/home/u12215/deep-soli/SoliData_tmp/dsp/2_8_11.h5',\n",
       " '/home/u12215/deep-soli/SoliData_tmp/dsp/2_8_12.h5',\n",
       " '/home/u12215/deep-soli/SoliData_tmp/dsp/2_8_13.h5',\n",
       " '/home/u12215/deep-soli/SoliData_tmp/dsp/2_8_14.h5',\n",
       " '/home/u12215/deep-soli/SoliData_tmp/dsp/2_8_15.h5',\n",
       " '/home/u12215/deep-soli/SoliData_tmp/dsp/2_8_16.h5',\n",
       " '/home/u12215/deep-soli/SoliData_tmp/dsp/2_8_17.h5',\n",
       " '/home/u12215/deep-soli/SoliData_tmp/dsp/2_8_18.h5',\n",
       " '/home/u12215/deep-soli/SoliData_tmp/dsp/2_8_19.h5',\n",
       " '/home/u12215/deep-soli/SoliData_tmp/dsp/2_8_20.h5',\n",
       " '/home/u12215/deep-soli/SoliData_tmp/dsp/2_8_21.h5',\n",
       " '/home/u12215/deep-soli/SoliData_tmp/dsp/2_8_22.h5',\n",
       " '/home/u12215/deep-soli/SoliData_tmp/dsp/2_8_23.h5',\n",
       " '/home/u12215/deep-soli/SoliData_tmp/dsp/2_8_24.h5',\n",
       " '/home/u12215/deep-soli/SoliData_tmp/dsp/2_9_0.h5',\n",
       " '/home/u12215/deep-soli/SoliData_tmp/dsp/2_9_1.h5',\n",
       " '/home/u12215/deep-soli/SoliData_tmp/dsp/2_9_2.h5',\n",
       " '/home/u12215/deep-soli/SoliData_tmp/dsp/2_9_3.h5',\n",
       " '/home/u12215/deep-soli/SoliData_tmp/dsp/2_9_4.h5',\n",
       " '/home/u12215/deep-soli/SoliData_tmp/dsp/2_9_5.h5',\n",
       " '/home/u12215/deep-soli/SoliData_tmp/dsp/2_9_6.h5',\n",
       " '/home/u12215/deep-soli/SoliData_tmp/dsp/2_9_7.h5',\n",
       " '/home/u12215/deep-soli/SoliData_tmp/dsp/2_9_8.h5',\n",
       " '/home/u12215/deep-soli/SoliData_tmp/dsp/2_9_9.h5',\n",
       " '/home/u12215/deep-soli/SoliData_tmp/dsp/2_9_10.h5',\n",
       " '/home/u12215/deep-soli/SoliData_tmp/dsp/2_9_11.h5',\n",
       " '/home/u12215/deep-soli/SoliData_tmp/dsp/2_9_12.h5',\n",
       " '/home/u12215/deep-soli/SoliData_tmp/dsp/2_9_13.h5',\n",
       " '/home/u12215/deep-soli/SoliData_tmp/dsp/2_9_14.h5',\n",
       " '/home/u12215/deep-soli/SoliData_tmp/dsp/2_9_15.h5',\n",
       " '/home/u12215/deep-soli/SoliData_tmp/dsp/2_9_16.h5',\n",
       " '/home/u12215/deep-soli/SoliData_tmp/dsp/2_9_17.h5',\n",
       " '/home/u12215/deep-soli/SoliData_tmp/dsp/2_9_18.h5',\n",
       " '/home/u12215/deep-soli/SoliData_tmp/dsp/2_9_19.h5',\n",
       " '/home/u12215/deep-soli/SoliData_tmp/dsp/2_9_20.h5',\n",
       " '/home/u12215/deep-soli/SoliData_tmp/dsp/2_9_21.h5',\n",
       " '/home/u12215/deep-soli/SoliData_tmp/dsp/2_9_22.h5',\n",
       " '/home/u12215/deep-soli/SoliData_tmp/dsp/2_9_23.h5',\n",
       " '/home/u12215/deep-soli/SoliData_tmp/dsp/2_9_24.h5',\n",
       " '/home/u12215/deep-soli/SoliData_tmp/dsp/3_0_0.h5',\n",
       " '/home/u12215/deep-soli/SoliData_tmp/dsp/3_0_1.h5',\n",
       " '/home/u12215/deep-soli/SoliData_tmp/dsp/3_0_2.h5',\n",
       " '/home/u12215/deep-soli/SoliData_tmp/dsp/3_0_3.h5',\n",
       " '/home/u12215/deep-soli/SoliData_tmp/dsp/3_0_4.h5',\n",
       " '/home/u12215/deep-soli/SoliData_tmp/dsp/3_0_5.h5',\n",
       " '/home/u12215/deep-soli/SoliData_tmp/dsp/3_0_6.h5',\n",
       " '/home/u12215/deep-soli/SoliData_tmp/dsp/3_0_7.h5',\n",
       " '/home/u12215/deep-soli/SoliData_tmp/dsp/3_0_8.h5',\n",
       " '/home/u12215/deep-soli/SoliData_tmp/dsp/3_0_9.h5',\n",
       " '/home/u12215/deep-soli/SoliData_tmp/dsp/3_0_10.h5',\n",
       " '/home/u12215/deep-soli/SoliData_tmp/dsp/3_0_11.h5',\n",
       " '/home/u12215/deep-soli/SoliData_tmp/dsp/3_0_12.h5',\n",
       " '/home/u12215/deep-soli/SoliData_tmp/dsp/3_0_13.h5',\n",
       " '/home/u12215/deep-soli/SoliData_tmp/dsp/3_0_14.h5',\n",
       " '/home/u12215/deep-soli/SoliData_tmp/dsp/3_0_15.h5',\n",
       " '/home/u12215/deep-soli/SoliData_tmp/dsp/3_0_16.h5',\n",
       " '/home/u12215/deep-soli/SoliData_tmp/dsp/3_0_17.h5',\n",
       " '/home/u12215/deep-soli/SoliData_tmp/dsp/3_0_18.h5',\n",
       " '/home/u12215/deep-soli/SoliData_tmp/dsp/3_0_19.h5',\n",
       " '/home/u12215/deep-soli/SoliData_tmp/dsp/3_0_20.h5',\n",
       " '/home/u12215/deep-soli/SoliData_tmp/dsp/3_0_21.h5',\n",
       " '/home/u12215/deep-soli/SoliData_tmp/dsp/3_0_22.h5',\n",
       " '/home/u12215/deep-soli/SoliData_tmp/dsp/3_0_23.h5',\n",
       " '/home/u12215/deep-soli/SoliData_tmp/dsp/3_0_24.h5',\n",
       " '/home/u12215/deep-soli/SoliData_tmp/dsp/3_1_0.h5',\n",
       " '/home/u12215/deep-soli/SoliData_tmp/dsp/3_1_1.h5',\n",
       " '/home/u12215/deep-soli/SoliData_tmp/dsp/3_1_2.h5',\n",
       " '/home/u12215/deep-soli/SoliData_tmp/dsp/3_1_3.h5',\n",
       " '/home/u12215/deep-soli/SoliData_tmp/dsp/3_1_4.h5',\n",
       " '/home/u12215/deep-soli/SoliData_tmp/dsp/3_1_5.h5',\n",
       " '/home/u12215/deep-soli/SoliData_tmp/dsp/3_1_6.h5',\n",
       " '/home/u12215/deep-soli/SoliData_tmp/dsp/3_1_7.h5',\n",
       " '/home/u12215/deep-soli/SoliData_tmp/dsp/3_1_8.h5',\n",
       " '/home/u12215/deep-soli/SoliData_tmp/dsp/3_1_9.h5',\n",
       " '/home/u12215/deep-soli/SoliData_tmp/dsp/3_1_10.h5',\n",
       " '/home/u12215/deep-soli/SoliData_tmp/dsp/3_1_11.h5',\n",
       " '/home/u12215/deep-soli/SoliData_tmp/dsp/3_1_12.h5',\n",
       " '/home/u12215/deep-soli/SoliData_tmp/dsp/3_1_13.h5',\n",
       " '/home/u12215/deep-soli/SoliData_tmp/dsp/3_1_14.h5',\n",
       " '/home/u12215/deep-soli/SoliData_tmp/dsp/3_1_15.h5',\n",
       " '/home/u12215/deep-soli/SoliData_tmp/dsp/3_1_16.h5',\n",
       " '/home/u12215/deep-soli/SoliData_tmp/dsp/3_1_17.h5',\n",
       " '/home/u12215/deep-soli/SoliData_tmp/dsp/3_1_18.h5',\n",
       " '/home/u12215/deep-soli/SoliData_tmp/dsp/3_1_19.h5',\n",
       " '/home/u12215/deep-soli/SoliData_tmp/dsp/3_1_20.h5',\n",
       " '/home/u12215/deep-soli/SoliData_tmp/dsp/3_1_21.h5',\n",
       " '/home/u12215/deep-soli/SoliData_tmp/dsp/3_1_22.h5',\n",
       " '/home/u12215/deep-soli/SoliData_tmp/dsp/3_1_23.h5',\n",
       " '/home/u12215/deep-soli/SoliData_tmp/dsp/3_1_24.h5',\n",
       " '/home/u12215/deep-soli/SoliData_tmp/dsp/3_2_0.h5',\n",
       " '/home/u12215/deep-soli/SoliData_tmp/dsp/3_2_1.h5',\n",
       " '/home/u12215/deep-soli/SoliData_tmp/dsp/3_2_2.h5',\n",
       " '/home/u12215/deep-soli/SoliData_tmp/dsp/3_2_3.h5',\n",
       " '/home/u12215/deep-soli/SoliData_tmp/dsp/3_2_4.h5',\n",
       " '/home/u12215/deep-soli/SoliData_tmp/dsp/3_2_5.h5',\n",
       " '/home/u12215/deep-soli/SoliData_tmp/dsp/3_2_6.h5',\n",
       " '/home/u12215/deep-soli/SoliData_tmp/dsp/3_2_7.h5',\n",
       " '/home/u12215/deep-soli/SoliData_tmp/dsp/3_2_8.h5',\n",
       " '/home/u12215/deep-soli/SoliData_tmp/dsp/3_2_9.h5',\n",
       " '/home/u12215/deep-soli/SoliData_tmp/dsp/3_2_10.h5',\n",
       " '/home/u12215/deep-soli/SoliData_tmp/dsp/3_2_11.h5',\n",
       " '/home/u12215/deep-soli/SoliData_tmp/dsp/3_2_12.h5',\n",
       " '/home/u12215/deep-soli/SoliData_tmp/dsp/3_2_13.h5',\n",
       " '/home/u12215/deep-soli/SoliData_tmp/dsp/3_2_14.h5',\n",
       " '/home/u12215/deep-soli/SoliData_tmp/dsp/3_2_15.h5',\n",
       " '/home/u12215/deep-soli/SoliData_tmp/dsp/3_2_16.h5',\n",
       " '/home/u12215/deep-soli/SoliData_tmp/dsp/3_2_17.h5',\n",
       " '/home/u12215/deep-soli/SoliData_tmp/dsp/3_2_18.h5',\n",
       " '/home/u12215/deep-soli/SoliData_tmp/dsp/3_2_19.h5',\n",
       " '/home/u12215/deep-soli/SoliData_tmp/dsp/3_2_20.h5',\n",
       " '/home/u12215/deep-soli/SoliData_tmp/dsp/3_2_21.h5',\n",
       " '/home/u12215/deep-soli/SoliData_tmp/dsp/3_2_22.h5',\n",
       " '/home/u12215/deep-soli/SoliData_tmp/dsp/3_2_23.h5',\n",
       " '/home/u12215/deep-soli/SoliData_tmp/dsp/3_2_24.h5',\n",
       " '/home/u12215/deep-soli/SoliData_tmp/dsp/3_3_0.h5',\n",
       " '/home/u12215/deep-soli/SoliData_tmp/dsp/3_3_1.h5',\n",
       " '/home/u12215/deep-soli/SoliData_tmp/dsp/3_3_2.h5',\n",
       " '/home/u12215/deep-soli/SoliData_tmp/dsp/3_3_3.h5',\n",
       " '/home/u12215/deep-soli/SoliData_tmp/dsp/3_3_4.h5',\n",
       " '/home/u12215/deep-soli/SoliData_tmp/dsp/3_3_5.h5',\n",
       " '/home/u12215/deep-soli/SoliData_tmp/dsp/3_3_6.h5',\n",
       " '/home/u12215/deep-soli/SoliData_tmp/dsp/3_3_7.h5',\n",
       " '/home/u12215/deep-soli/SoliData_tmp/dsp/3_3_8.h5',\n",
       " '/home/u12215/deep-soli/SoliData_tmp/dsp/3_3_9.h5',\n",
       " '/home/u12215/deep-soli/SoliData_tmp/dsp/3_3_10.h5',\n",
       " '/home/u12215/deep-soli/SoliData_tmp/dsp/3_3_11.h5',\n",
       " '/home/u12215/deep-soli/SoliData_tmp/dsp/3_3_12.h5',\n",
       " '/home/u12215/deep-soli/SoliData_tmp/dsp/3_3_13.h5',\n",
       " '/home/u12215/deep-soli/SoliData_tmp/dsp/3_3_14.h5',\n",
       " '/home/u12215/deep-soli/SoliData_tmp/dsp/3_3_15.h5',\n",
       " '/home/u12215/deep-soli/SoliData_tmp/dsp/3_3_16.h5',\n",
       " '/home/u12215/deep-soli/SoliData_tmp/dsp/3_3_17.h5',\n",
       " '/home/u12215/deep-soli/SoliData_tmp/dsp/3_3_18.h5',\n",
       " '/home/u12215/deep-soli/SoliData_tmp/dsp/3_3_19.h5',\n",
       " '/home/u12215/deep-soli/SoliData_tmp/dsp/3_3_20.h5',\n",
       " '/home/u12215/deep-soli/SoliData_tmp/dsp/3_3_21.h5',\n",
       " '/home/u12215/deep-soli/SoliData_tmp/dsp/3_3_22.h5',\n",
       " '/home/u12215/deep-soli/SoliData_tmp/dsp/3_3_23.h5',\n",
       " '/home/u12215/deep-soli/SoliData_tmp/dsp/3_3_24.h5',\n",
       " '/home/u12215/deep-soli/SoliData_tmp/dsp/3_4_0.h5',\n",
       " '/home/u12215/deep-soli/SoliData_tmp/dsp/3_4_1.h5',\n",
       " '/home/u12215/deep-soli/SoliData_tmp/dsp/3_4_2.h5',\n",
       " '/home/u12215/deep-soli/SoliData_tmp/dsp/3_4_3.h5',\n",
       " '/home/u12215/deep-soli/SoliData_tmp/dsp/3_4_4.h5',\n",
       " '/home/u12215/deep-soli/SoliData_tmp/dsp/3_4_5.h5',\n",
       " '/home/u12215/deep-soli/SoliData_tmp/dsp/3_4_6.h5',\n",
       " '/home/u12215/deep-soli/SoliData_tmp/dsp/3_4_7.h5',\n",
       " '/home/u12215/deep-soli/SoliData_tmp/dsp/3_4_8.h5',\n",
       " '/home/u12215/deep-soli/SoliData_tmp/dsp/3_4_9.h5',\n",
       " '/home/u12215/deep-soli/SoliData_tmp/dsp/3_4_10.h5',\n",
       " '/home/u12215/deep-soli/SoliData_tmp/dsp/3_4_11.h5',\n",
       " '/home/u12215/deep-soli/SoliData_tmp/dsp/3_4_12.h5',\n",
       " '/home/u12215/deep-soli/SoliData_tmp/dsp/3_4_13.h5',\n",
       " '/home/u12215/deep-soli/SoliData_tmp/dsp/3_4_14.h5',\n",
       " '/home/u12215/deep-soli/SoliData_tmp/dsp/3_4_15.h5',\n",
       " '/home/u12215/deep-soli/SoliData_tmp/dsp/3_4_16.h5',\n",
       " '/home/u12215/deep-soli/SoliData_tmp/dsp/3_4_17.h5',\n",
       " '/home/u12215/deep-soli/SoliData_tmp/dsp/3_4_18.h5',\n",
       " '/home/u12215/deep-soli/SoliData_tmp/dsp/3_4_19.h5',\n",
       " '/home/u12215/deep-soli/SoliData_tmp/dsp/3_4_20.h5',\n",
       " '/home/u12215/deep-soli/SoliData_tmp/dsp/3_4_21.h5',\n",
       " '/home/u12215/deep-soli/SoliData_tmp/dsp/3_4_22.h5',\n",
       " '/home/u12215/deep-soli/SoliData_tmp/dsp/3_4_23.h5',\n",
       " '/home/u12215/deep-soli/SoliData_tmp/dsp/3_4_24.h5',\n",
       " '/home/u12215/deep-soli/SoliData_tmp/dsp/3_5_0.h5',\n",
       " '/home/u12215/deep-soli/SoliData_tmp/dsp/3_5_1.h5',\n",
       " '/home/u12215/deep-soli/SoliData_tmp/dsp/3_5_2.h5',\n",
       " '/home/u12215/deep-soli/SoliData_tmp/dsp/3_5_3.h5',\n",
       " '/home/u12215/deep-soli/SoliData_tmp/dsp/3_5_4.h5',\n",
       " '/home/u12215/deep-soli/SoliData_tmp/dsp/3_5_5.h5',\n",
       " '/home/u12215/deep-soli/SoliData_tmp/dsp/3_5_6.h5',\n",
       " '/home/u12215/deep-soli/SoliData_tmp/dsp/3_5_7.h5',\n",
       " '/home/u12215/deep-soli/SoliData_tmp/dsp/3_5_8.h5',\n",
       " '/home/u12215/deep-soli/SoliData_tmp/dsp/3_5_9.h5',\n",
       " '/home/u12215/deep-soli/SoliData_tmp/dsp/3_5_10.h5',\n",
       " '/home/u12215/deep-soli/SoliData_tmp/dsp/3_5_11.h5',\n",
       " '/home/u12215/deep-soli/SoliData_tmp/dsp/3_5_12.h5',\n",
       " '/home/u12215/deep-soli/SoliData_tmp/dsp/3_5_13.h5',\n",
       " '/home/u12215/deep-soli/SoliData_tmp/dsp/3_5_14.h5',\n",
       " '/home/u12215/deep-soli/SoliData_tmp/dsp/3_5_15.h5',\n",
       " '/home/u12215/deep-soli/SoliData_tmp/dsp/3_5_16.h5',\n",
       " '/home/u12215/deep-soli/SoliData_tmp/dsp/3_5_17.h5',\n",
       " '/home/u12215/deep-soli/SoliData_tmp/dsp/3_5_18.h5',\n",
       " '/home/u12215/deep-soli/SoliData_tmp/dsp/3_5_19.h5',\n",
       " '/home/u12215/deep-soli/SoliData_tmp/dsp/3_5_20.h5',\n",
       " '/home/u12215/deep-soli/SoliData_tmp/dsp/3_5_21.h5',\n",
       " '/home/u12215/deep-soli/SoliData_tmp/dsp/3_5_22.h5',\n",
       " '/home/u12215/deep-soli/SoliData_tmp/dsp/3_5_23.h5',\n",
       " '/home/u12215/deep-soli/SoliData_tmp/dsp/3_5_24.h5',\n",
       " '/home/u12215/deep-soli/SoliData_tmp/dsp/3_6_0.h5',\n",
       " '/home/u12215/deep-soli/SoliData_tmp/dsp/3_6_1.h5',\n",
       " '/home/u12215/deep-soli/SoliData_tmp/dsp/3_6_2.h5',\n",
       " '/home/u12215/deep-soli/SoliData_tmp/dsp/3_6_3.h5',\n",
       " '/home/u12215/deep-soli/SoliData_tmp/dsp/3_6_4.h5',\n",
       " '/home/u12215/deep-soli/SoliData_tmp/dsp/3_6_5.h5',\n",
       " '/home/u12215/deep-soli/SoliData_tmp/dsp/3_6_6.h5',\n",
       " '/home/u12215/deep-soli/SoliData_tmp/dsp/3_6_7.h5',\n",
       " '/home/u12215/deep-soli/SoliData_tmp/dsp/3_6_8.h5',\n",
       " '/home/u12215/deep-soli/SoliData_tmp/dsp/3_6_9.h5',\n",
       " '/home/u12215/deep-soli/SoliData_tmp/dsp/3_6_10.h5',\n",
       " '/home/u12215/deep-soli/SoliData_tmp/dsp/3_6_11.h5',\n",
       " '/home/u12215/deep-soli/SoliData_tmp/dsp/3_6_12.h5',\n",
       " '/home/u12215/deep-soli/SoliData_tmp/dsp/3_6_13.h5',\n",
       " '/home/u12215/deep-soli/SoliData_tmp/dsp/3_6_14.h5',\n",
       " '/home/u12215/deep-soli/SoliData_tmp/dsp/3_6_15.h5',\n",
       " '/home/u12215/deep-soli/SoliData_tmp/dsp/3_6_16.h5',\n",
       " '/home/u12215/deep-soli/SoliData_tmp/dsp/3_6_17.h5',\n",
       " '/home/u12215/deep-soli/SoliData_tmp/dsp/3_6_18.h5',\n",
       " '/home/u12215/deep-soli/SoliData_tmp/dsp/3_6_19.h5',\n",
       " '/home/u12215/deep-soli/SoliData_tmp/dsp/3_6_20.h5',\n",
       " '/home/u12215/deep-soli/SoliData_tmp/dsp/3_6_21.h5',\n",
       " '/home/u12215/deep-soli/SoliData_tmp/dsp/3_6_22.h5',\n",
       " '/home/u12215/deep-soli/SoliData_tmp/dsp/3_6_23.h5',\n",
       " '/home/u12215/deep-soli/SoliData_tmp/dsp/3_6_24.h5',\n",
       " '/home/u12215/deep-soli/SoliData_tmp/dsp/3_7_0.h5',\n",
       " '/home/u12215/deep-soli/SoliData_tmp/dsp/3_7_1.h5',\n",
       " '/home/u12215/deep-soli/SoliData_tmp/dsp/3_7_2.h5',\n",
       " '/home/u12215/deep-soli/SoliData_tmp/dsp/3_7_3.h5',\n",
       " '/home/u12215/deep-soli/SoliData_tmp/dsp/3_7_4.h5',\n",
       " '/home/u12215/deep-soli/SoliData_tmp/dsp/3_7_5.h5',\n",
       " '/home/u12215/deep-soli/SoliData_tmp/dsp/3_7_6.h5',\n",
       " '/home/u12215/deep-soli/SoliData_tmp/dsp/3_7_7.h5',\n",
       " '/home/u12215/deep-soli/SoliData_tmp/dsp/3_7_8.h5',\n",
       " '/home/u12215/deep-soli/SoliData_tmp/dsp/3_7_9.h5',\n",
       " '/home/u12215/deep-soli/SoliData_tmp/dsp/3_7_10.h5',\n",
       " '/home/u12215/deep-soli/SoliData_tmp/dsp/3_7_11.h5',\n",
       " '/home/u12215/deep-soli/SoliData_tmp/dsp/3_7_12.h5',\n",
       " '/home/u12215/deep-soli/SoliData_tmp/dsp/3_7_13.h5',\n",
       " '/home/u12215/deep-soli/SoliData_tmp/dsp/3_7_14.h5',\n",
       " '/home/u12215/deep-soli/SoliData_tmp/dsp/3_7_15.h5',\n",
       " '/home/u12215/deep-soli/SoliData_tmp/dsp/3_7_16.h5',\n",
       " '/home/u12215/deep-soli/SoliData_tmp/dsp/3_7_17.h5',\n",
       " '/home/u12215/deep-soli/SoliData_tmp/dsp/3_7_18.h5',\n",
       " '/home/u12215/deep-soli/SoliData_tmp/dsp/3_7_19.h5',\n",
       " '/home/u12215/deep-soli/SoliData_tmp/dsp/3_7_20.h5',\n",
       " '/home/u12215/deep-soli/SoliData_tmp/dsp/3_7_21.h5',\n",
       " '/home/u12215/deep-soli/SoliData_tmp/dsp/3_7_22.h5',\n",
       " '/home/u12215/deep-soli/SoliData_tmp/dsp/3_7_23.h5',\n",
       " '/home/u12215/deep-soli/SoliData_tmp/dsp/3_7_24.h5',\n",
       " '/home/u12215/deep-soli/SoliData_tmp/dsp/3_8_0.h5',\n",
       " '/home/u12215/deep-soli/SoliData_tmp/dsp/3_8_1.h5',\n",
       " '/home/u12215/deep-soli/SoliData_tmp/dsp/3_8_2.h5',\n",
       " '/home/u12215/deep-soli/SoliData_tmp/dsp/3_8_3.h5',\n",
       " '/home/u12215/deep-soli/SoliData_tmp/dsp/3_8_4.h5',\n",
       " '/home/u12215/deep-soli/SoliData_tmp/dsp/3_8_5.h5',\n",
       " '/home/u12215/deep-soli/SoliData_tmp/dsp/3_8_6.h5',\n",
       " '/home/u12215/deep-soli/SoliData_tmp/dsp/3_8_7.h5',\n",
       " '/home/u12215/deep-soli/SoliData_tmp/dsp/3_8_8.h5',\n",
       " '/home/u12215/deep-soli/SoliData_tmp/dsp/3_8_9.h5',\n",
       " '/home/u12215/deep-soli/SoliData_tmp/dsp/3_8_10.h5',\n",
       " '/home/u12215/deep-soli/SoliData_tmp/dsp/3_8_11.h5',\n",
       " '/home/u12215/deep-soli/SoliData_tmp/dsp/3_8_12.h5',\n",
       " '/home/u12215/deep-soli/SoliData_tmp/dsp/3_8_13.h5',\n",
       " '/home/u12215/deep-soli/SoliData_tmp/dsp/3_8_14.h5',\n",
       " '/home/u12215/deep-soli/SoliData_tmp/dsp/3_8_15.h5',\n",
       " '/home/u12215/deep-soli/SoliData_tmp/dsp/3_8_16.h5',\n",
       " '/home/u12215/deep-soli/SoliData_tmp/dsp/3_8_17.h5',\n",
       " '/home/u12215/deep-soli/SoliData_tmp/dsp/3_8_18.h5',\n",
       " '/home/u12215/deep-soli/SoliData_tmp/dsp/3_8_19.h5',\n",
       " '/home/u12215/deep-soli/SoliData_tmp/dsp/3_8_20.h5',\n",
       " '/home/u12215/deep-soli/SoliData_tmp/dsp/3_8_21.h5',\n",
       " '/home/u12215/deep-soli/SoliData_tmp/dsp/3_8_22.h5',\n",
       " '/home/u12215/deep-soli/SoliData_tmp/dsp/3_8_23.h5',\n",
       " '/home/u12215/deep-soli/SoliData_tmp/dsp/3_8_24.h5',\n",
       " '/home/u12215/deep-soli/SoliData_tmp/dsp/3_9_0.h5',\n",
       " '/home/u12215/deep-soli/SoliData_tmp/dsp/3_9_1.h5',\n",
       " '/home/u12215/deep-soli/SoliData_tmp/dsp/3_9_2.h5',\n",
       " '/home/u12215/deep-soli/SoliData_tmp/dsp/3_9_3.h5',\n",
       " '/home/u12215/deep-soli/SoliData_tmp/dsp/3_9_4.h5',\n",
       " '/home/u12215/deep-soli/SoliData_tmp/dsp/3_9_5.h5',\n",
       " '/home/u12215/deep-soli/SoliData_tmp/dsp/3_9_6.h5',\n",
       " '/home/u12215/deep-soli/SoliData_tmp/dsp/3_9_7.h5',\n",
       " '/home/u12215/deep-soli/SoliData_tmp/dsp/3_9_8.h5',\n",
       " '/home/u12215/deep-soli/SoliData_tmp/dsp/3_9_9.h5',\n",
       " '/home/u12215/deep-soli/SoliData_tmp/dsp/3_9_10.h5',\n",
       " '/home/u12215/deep-soli/SoliData_tmp/dsp/3_9_11.h5',\n",
       " '/home/u12215/deep-soli/SoliData_tmp/dsp/3_9_12.h5',\n",
       " '/home/u12215/deep-soli/SoliData_tmp/dsp/3_9_13.h5',\n",
       " '/home/u12215/deep-soli/SoliData_tmp/dsp/3_9_14.h5',\n",
       " '/home/u12215/deep-soli/SoliData_tmp/dsp/3_9_15.h5',\n",
       " '/home/u12215/deep-soli/SoliData_tmp/dsp/3_9_16.h5',\n",
       " '/home/u12215/deep-soli/SoliData_tmp/dsp/3_9_17.h5',\n",
       " '/home/u12215/deep-soli/SoliData_tmp/dsp/3_9_18.h5',\n",
       " '/home/u12215/deep-soli/SoliData_tmp/dsp/3_9_19.h5',\n",
       " '/home/u12215/deep-soli/SoliData_tmp/dsp/3_9_20.h5',\n",
       " '/home/u12215/deep-soli/SoliData_tmp/dsp/3_9_21.h5',\n",
       " '/home/u12215/deep-soli/SoliData_tmp/dsp/3_9_22.h5',\n",
       " '/home/u12215/deep-soli/SoliData_tmp/dsp/3_9_23.h5',\n",
       " '/home/u12215/deep-soli/SoliData_tmp/dsp/3_9_24.h5']"
      ]
     },
     "execution_count": 7,
     "metadata": {},
     "output_type": "execute_result"
    }
   ],
   "source": [
    "h5_list[0:1000]\n",
    "#file_name = '/home/u12215/deep-soli/SoliData_tmp/dsp/0_9_0.h5'"
   ]
  },
  {
   "cell_type": "code",
   "execution_count": 39,
   "metadata": {},
   "outputs": [],
   "source": [
    "# Demo code to extract data in python\n",
    "import h5py\n",
    "\n",
    "use_channel = 0\n",
    "with h5py.File(file_name, 'r') as f:\n",
    "    # Data and label are numpy arrays\n",
    "    data = f['ch{}'.format(use_channel)][()]\n",
    "    label = f['label'][()]"
   ]
  },
  {
   "cell_type": "code",
   "execution_count": 40,
   "metadata": {},
   "outputs": [
    {
     "data": {
      "text/plain": [
       "(68, 1024)"
      ]
     },
     "execution_count": 40,
     "metadata": {},
     "output_type": "execute_result"
    }
   ],
   "source": [
    "data.shape"
   ]
  },
  {
   "cell_type": "code",
   "execution_count": 9,
   "metadata": {},
   "outputs": [],
   "source": [
    "def h5file_array(file_name,use_channel = 0):\n",
    "    \n",
    "    with h5py.File(file_name, 'r') as f:\n",
    "    # Data and label are numpy arrays\n",
    "        data = f['ch{}'.format(use_channel)][()]\n",
    "        label = f['label'][()]\n",
    "    return data, label\n",
    "    "
   ]
  },
  {
   "cell_type": "code",
   "execution_count": 10,
   "metadata": {},
   "outputs": [
    {
     "data": {
      "text/plain": [
       "(57, 1024)"
      ]
     },
     "execution_count": 10,
     "metadata": {},
     "output_type": "execute_result"
    }
   ],
   "source": [
    "data.shape"
   ]
  },
  {
   "cell_type": "code",
   "execution_count": 11,
   "metadata": {},
   "outputs": [
    {
     "data": {
      "text/plain": [
       "(57, 1)"
      ]
     },
     "execution_count": 11,
     "metadata": {},
     "output_type": "execute_result"
    }
   ],
   "source": [
    "label.shape"
   ]
  },
  {
   "cell_type": "code",
   "execution_count": 12,
   "metadata": {},
   "outputs": [],
   "source": [
    "import numpy as np"
   ]
  },
  {
   "cell_type": "code",
   "execution_count": 13,
   "metadata": {},
   "outputs": [],
   "source": [
    "data = data.reshape(data.shape[0],32,32)"
   ]
  },
  {
   "cell_type": "code",
   "execution_count": 14,
   "metadata": {},
   "outputs": [
    {
     "data": {
      "text/plain": [
       "(57, 32, 32)"
      ]
     },
     "execution_count": 14,
     "metadata": {},
     "output_type": "execute_result"
    }
   ],
   "source": [
    "data.shape"
   ]
  },
  {
   "cell_type": "code",
   "execution_count": 15,
   "metadata": {},
   "outputs": [
    {
     "data": {
      "text/plain": [
       "(20, 32, 32)"
      ]
     },
     "execution_count": 15,
     "metadata": {},
     "output_type": "execute_result"
    }
   ],
   "source": [
    "data[:20].shape"
   ]
  },
  {
   "cell_type": "code",
   "execution_count": 16,
   "metadata": {},
   "outputs": [],
   "source": [
    "import matplotlib.pyplot as plt"
   ]
  },
  {
   "cell_type": "code",
   "execution_count": 17,
   "metadata": {},
   "outputs": [
    {
     "data": {
      "image/png": "[encoded data removed]",
      "text/plain": [
       "<matplotlib.figure.Figure at 0x14656760c358>"
      ]
     },
     "metadata": {},
     "output_type": "display_data"
    }
   ],
   "source": [
    "plt.imshow(data[0]).set_cmap('hot')\n",
    "plt.show()"
   ]
  },
  {
   "cell_type": "code",
   "execution_count": null,
   "metadata": {},
   "outputs": [],
   "source": []
  },
  {
   "cell_type": "code",
   "execution_count": 18,
   "metadata": {},
   "outputs": [],
   "source": [
    "file_name = h5_list[2010]\n",
    "data, label = h5file_array(file_name,use_channel=0)\n",
    "data = data.reshape(data.shape[0],32,32)"
   ]
  },
  {
   "cell_type": "code",
   "execution_count": 19,
   "metadata": {},
   "outputs": [
    {
     "data": {
      "image/png": "[encoded data removed]",
      "text/plain": [
       "<matplotlib.figure.Figure at 0x1465583e99b0>"
      ]
     },
     "metadata": {},
     "output_type": "display_data"
    },
    {
     "data": {
      "image/png": "[encoded data removed]",
      "text/plain": [
       "<matplotlib.figure.Figure at 0x1465583e9940>"
      ]
     },
     "metadata": {},
     "output_type": "display_data"
    },
    {
     "data": {
      "image/png": "[encoded data removed]",
      "text/plain": [
       "<matplotlib.figure.Figure at 0x14655831bd68>"
      ]
     },
     "metadata": {},
     "output_type": "display_data"
    },
    {
     "data": {
      "image/png": "[encoded data removed]",
      "text/plain": [
       "<matplotlib.figure.Figure at 0x1465581cc1d0>"
      ]
     },
     "metadata": {},
     "output_type": "display_data"
    }
   ],
   "source": [
    "plots(data[:5], titles=label[:5])\n",
    "plots(data[5:10], titles=label[5:10])\n",
    "plots(data[10:15], titles=label[10:15])\n",
    "plots(data[15:20], titles=label[15:20])"
   ]
  },
  {
   "cell_type": "code",
   "execution_count": 20,
   "metadata": {},
   "outputs": [],
   "source": [
    "file_name = h5_list[2010]\n",
    "data, label = h5file_array(file_name,use_channel=1)\n",
    "data = data.reshape(data.shape[0],32,32)"
   ]
  },
  {
   "cell_type": "code",
   "execution_count": 21,
   "metadata": {},
   "outputs": [
    {
     "data": {
      "image/png": "[encoded data removed]",
      "text/plain": [
       "<matplotlib.figure.Figure at 0x146558480d68>"
      ]
     },
     "metadata": {},
     "output_type": "display_data"
    },
    {
     "data": {
      "image/png": "[encoded data removed]",
      "text/plain": [
       "<matplotlib.figure.Figure at 0x14655849bd30>"
      ]
     },
     "metadata": {},
     "output_type": "display_data"
    },
    {
     "data": {
      "image/png": "[encoded data removed]",
      "text/plain": [
       "<matplotlib.figure.Figure at 0x146557ddfcc0>"
      ]
     },
     "metadata": {},
     "output_type": "display_data"
    },
    {
     "data": {
      "image/png": "[encoded data removed]",
      "text/plain": [
       "<matplotlib.figure.Figure at 0x146557c90128>"
      ]
     },
     "metadata": {},
     "output_type": "display_data"
    }
   ],
   "source": [
    "plots(data[:5], titles=label[:5])\n",
    "plots(data[5:10], titles=label[5:10])\n",
    "plots(data[10:15], titles=label[10:15])\n",
    "plots(data[15:20], titles=label[15:20])"
   ]
  },
  {
   "cell_type": "code",
   "execution_count": 22,
   "metadata": {},
   "outputs": [
    {
     "data": {
      "image/png": "[encoded data removed]",
      "text/plain": [
       "<matplotlib.figure.Figure at 0x1465900a8390>"
      ]
     },
     "metadata": {},
     "output_type": "display_data"
    },
    {
     "data": {
      "image/png": "[encoded data removed]",
      "text/plain": [
       "<matplotlib.figure.Figure at 0x146557a99978>"
      ]
     },
     "metadata": {},
     "output_type": "display_data"
    },
    {
     "data": {
      "image/png": "[encoded data removed]",
      "text/plain": [
       "<matplotlib.figure.Figure at 0x146557d6ca90>"
      ]
     },
     "metadata": {},
     "output_type": "display_data"
    },
    {
     "data": {
      "image/png": "[encoded data removed]",
      "text/plain": [
       "<matplotlib.figure.Figure at 0x1465583f5588>"
      ]
     },
     "metadata": {},
     "output_type": "display_data"
    }
   ],
   "source": [
    "file_name = h5_list[2010]\n",
    "data, label = h5file_array(file_name,use_channel=0)\n",
    "data = data.reshape(data.shape[0],32,32)\n",
    "plots(data[:5], titles=label[:5])\n",
    "\n",
    "file_name = h5_list[2010]\n",
    "data, label = h5file_array(file_name,use_channel=1)\n",
    "data = data.reshape(data.shape[0],32,32)\n",
    "plots(data[:5], titles=label[:5])\n",
    "\n",
    "file_name = h5_list[2010]\n",
    "data, label = h5file_array(file_name,use_channel=2)\n",
    "data = data.reshape(data.shape[0],32,32)\n",
    "plots(data[:5], titles=label[:5])\n",
    "\n",
    "file_name = h5_list[2010]\n",
    "data, label = h5file_array(file_name,use_channel=3)\n",
    "data = data.reshape(data.shape[0],32,32)\n",
    "plots(data[:5], titles=label[:5])"
   ]
  },
  {
   "cell_type": "code",
   "execution_count": 23,
   "metadata": {},
   "outputs": [
    {
     "data": {
      "image/png": "[encoded data removed]",
      "text/plain": [
       "<matplotlib.figure.Figure at 0x1465582a8240>"
      ]
     },
     "metadata": {},
     "output_type": "display_data"
    },
    {
     "data": {
      "image/png": "[encoded data removed]",
      "text/plain": [
       "<matplotlib.figure.Figure at 0x146557e79b38>"
      ]
     },
     "metadata": {},
     "output_type": "display_data"
    },
    {
     "data": {
      "image/png": "[encoded data removed]",
      "text/plain": [
       "<matplotlib.figure.Figure at 0x146557bcfe80>"
      ]
     },
     "metadata": {},
     "output_type": "display_data"
    },
    {
     "data": {
      "image/png": "[encoded data removed]",
      "text/plain": [
       "<matplotlib.figure.Figure at 0x146557d5f518>"
      ]
     },
     "metadata": {},
     "output_type": "display_data"
    }
   ],
   "source": [
    "file_name = h5_list[2010]\n",
    "data, label = h5file_array(file_name,use_channel=0)\n",
    "data = data.reshape(data.shape[0],32,32)\n",
    "plots(data[15:20], titles=label[15:20])\n",
    "\n",
    "file_name = h5_list[2010]\n",
    "data, label = h5file_array(file_name,use_channel=1)\n",
    "data = data.reshape(data.shape[0],32,32)\n",
    "plots(data[15:20], titles=label[15:20])\n",
    "\n",
    "file_name = h5_list[2010]\n",
    "data, label = h5file_array(file_name,use_channel=2)\n",
    "data = data.reshape(data.shape[0],32,32)\n",
    "plots(data[15:20], titles=label[15:20])\n",
    "\n",
    "file_name = h5_list[2010]\n",
    "data, label = h5file_array(file_name,use_channel=3)\n",
    "data = data.reshape(data.shape[0],32,32)\n",
    "plots(data[15:20], titles=label[15:20])"
   ]
  },
  {
   "cell_type": "code",
   "execution_count": 32,
   "metadata": {},
   "outputs": [
    {
     "data": {
      "image/png": "[encoded data removed]",
      "text/plain": [
       "<matplotlib.figure.Figure at 0x146557efba58>"
      ]
     },
     "metadata": {},
     "output_type": "display_data"
    },
    {
     "data": {
      "image/png": "[encoded data removed]",
      "text/plain": [
       "<matplotlib.figure.Figure at 0x1465582dd550>"
      ]
     },
     "metadata": {},
     "output_type": "display_data"
    }
   ],
   "source": [
    "file_name = h5_list[2010]\n",
    "data, label = h5file_array(file_name,use_channel=1)\n",
    "data1 = data.reshape(data.shape[0],32,32)\n",
    "data, label = h5file_array(file_name,use_channel=3)\n",
    "data2 = data.reshape(data.shape[0],32,32)\n",
    "#plots(data1[:5]-data2[:5], titles=label[:5])\n",
    "plt.imshow(data1[5]).set_cmap('nipy_spectral')\n",
    "plt.show()\n",
    "plt.imshow(data2[5]).set_cmap('nipy_spectral')\n",
    "plt.show()"
   ]
  },
  {
   "cell_type": "code",
   "execution_count": 42,
   "metadata": {},
   "outputs": [],
   "source": [
    "dataset = np.zeros([len(h5_list),20,32,32,4])"
   ]
  },
  {
   "cell_type": "code",
   "execution_count": 43,
   "metadata": {},
   "outputs": [],
   "source": [
    "labels = np.zeros([len(h5_list),20,1])"
   ]
  },
  {
   "cell_type": "code",
   "execution_count": 44,
   "metadata": {},
   "outputs": [
    {
     "data": {
      "text/plain": [
       "(2750, 20, 1)"
      ]
     },
     "execution_count": 44,
     "metadata": {},
     "output_type": "execute_result"
    }
   ],
   "source": [
    "labels.shape"
   ]
  },
  {
   "cell_type": "code",
   "execution_count": 58,
   "metadata": {},
   "outputs": [
    {
     "data": {
      "text/plain": [
       "(20, 32, 32)"
      ]
     },
     "execution_count": 58,
     "metadata": {},
     "output_type": "execute_result"
    }
   ],
   "source": [
    "dataset[0,:,:,:,ch].shape"
   ]
  },
  {
   "cell_type": "code",
   "execution_count": 55,
   "metadata": {},
   "outputs": [],
   "source": [
    "ch = 0\n",
    "file_name = h5_list[i]\n",
    "data, label = h5file_array(file_name,use_channel=ch)\n",
    "data = data.reshape(data.shape[0],32,32)\n",
    "data = data[:20,:,:]"
   ]
  },
  {
   "cell_type": "code",
   "execution_count": 56,
   "metadata": {},
   "outputs": [
    {
     "data": {
      "text/plain": [
       "(20, 32, 32)"
      ]
     },
     "execution_count": 56,
     "metadata": {},
     "output_type": "execute_result"
    }
   ],
   "source": [
    "data.shape"
   ]
  },
  {
   "cell_type": "code",
   "execution_count": 59,
   "metadata": {},
   "outputs": [],
   "source": [
    "for i in range(len(h5_list)):\n",
    "    for ch in range(4):\n",
    "        file_name = h5_list[i]\n",
    "        data, label = h5file_array(file_name,use_channel=ch)\n",
    "        data = data.reshape(data.shape[0],32,32)\n",
    "        data = data[:20,:,:]\n",
    "        label = label[:20]\n",
    "        dataset[i,:,:,:,ch] = data\n",
    "        labels[i] = label"
   ]
  },
  {
   "cell_type": "code",
   "execution_count": 60,
   "metadata": {},
   "outputs": [
    {
     "data": {
      "text/plain": [
       "(2750, 20, 32, 32, 4)"
      ]
     },
     "execution_count": 60,
     "metadata": {},
     "output_type": "execute_result"
    }
   ],
   "source": [
    "dataset.shape"
   ]
  },
  {
   "cell_type": "code",
   "execution_count": 61,
   "metadata": {},
   "outputs": [
    {
     "data": {
      "text/plain": [
       "array([[0.],\n",
       "       [0.],\n",
       "       [0.],\n",
       "       [0.],\n",
       "       [0.]])"
      ]
     },
     "execution_count": 61,
     "metadata": {},
     "output_type": "execute_result"
    }
   ],
   "source": [
    "labels[0,:5]"
   ]
  },
  {
   "cell_type": "code",
   "execution_count": 64,
   "metadata": {},
   "outputs": [
    {
     "data": {
      "image/png": "[encoded data removed]",
      "text/plain": [
       "<matplotlib.figure.Figure at 0x14655789e630>"
      ]
     },
     "metadata": {},
     "output_type": "display_data"
    },
    {
     "data": {
      "image/png": "[encoded data removed]",
      "text/plain": [
       "<matplotlib.figure.Figure at 0x146557ad4080>"
      ]
     },
     "metadata": {},
     "output_type": "display_data"
    },
    {
     "data": {
      "image/png": "[encoded data removed]",
      "text/plain": [
       "<matplotlib.figure.Figure at 0x146557ad4208>"
      ]
     },
     "metadata": {},
     "output_type": "display_data"
    },
    {
     "data": {
      "image/png": "[encoded data removed]",
      "text/plain": [
       "<matplotlib.figure.Figure at 0x146557c28be0>"
      ]
     },
     "metadata": {},
     "output_type": "display_data"
    }
   ],
   "source": [
    "plots(dataset[0,:5,:,:,0])\n",
    "plots(dataset[0,:5,:,:,1])\n",
    "plots(dataset[0,:5,:,:,2])\n",
    "plots(dataset[0,:5,:,:,3])"
   ]
  },
  {
   "cell_type": "code",
   "execution_count": 65,
   "metadata": {},
   "outputs": [
    {
     "data": {
      "image/png": "[encoded data removed]",
      "text/plain": [
       "<matplotlib.figure.Figure at 0x14655849cb70>"
      ]
     },
     "metadata": {},
     "output_type": "display_data"
    },
    {
     "data": {
      "image/png": "[encoded data removed]",
      "text/plain": [
       "<matplotlib.figure.Figure at 0x146557797b38>"
      ]
     },
     "metadata": {},
     "output_type": "display_data"
    },
    {
     "data": {
      "image/png": "[encoded data removed]",
      "text/plain": [
       "<matplotlib.figure.Figure at 0x146557f47240>"
      ]
     },
     "metadata": {},
     "output_type": "display_data"
    },
    {
     "data": {
      "image/png": "[encoded data removed]",
      "text/plain": [
       "<matplotlib.figure.Figure at 0x14655773a4a8>"
      ]
     },
     "metadata": {},
     "output_type": "display_data"
    }
   ],
   "source": [
    "plots(dataset[0,5:10,:,:,0])\n",
    "plots(dataset[0,5:10,:,:,1])\n",
    "plots(dataset[0,5:10,:,:,2])\n",
    "plots(dataset[0,5:10,:,:,3])"
   ]
  },
  {
   "cell_type": "code",
   "execution_count": 66,
   "metadata": {},
   "outputs": [
    {
     "data": {
      "image/png": "[encoded data removed]",
      "text/plain": [
       "<matplotlib.figure.Figure at 0x146557e101d0>"
      ]
     },
     "metadata": {},
     "output_type": "display_data"
    },
    {
     "data": {
      "image/png": "[encoded data removed]",
      "text/plain": [
       "<matplotlib.figure.Figure at 0x146557de9d68>"
      ]
     },
     "metadata": {},
     "output_type": "display_data"
    },
    {
     "data": {
      "image/png": "[encoded data removed]",
      "text/plain": [
       "<matplotlib.figure.Figure at 0x146557a8aef0>"
      ]
     },
     "metadata": {},
     "output_type": "display_data"
    },
    {
     "data": {
      "image/png": "[encoded data removed]",
      "text/plain": [
       "<matplotlib.figure.Figure at 0x146557b1c160>"
      ]
     },
     "metadata": {},
     "output_type": "display_data"
    }
   ],
   "source": [
    "plots(dataset[0,10:15,:,:,0]) \n",
    "plots(dataset[0,10:15,:,:,1]) \n",
    "plots(dataset[0,10:15,:,:,2]) \n",
    "plots(dataset[0,10:15,:,:,3]) "
   ]
  },
  {
   "cell_type": "code",
   "execution_count": 67,
   "metadata": {},
   "outputs": [
    {
     "data": {
      "image/png": "[encoded data removed]",
      "text/plain": [
       "<matplotlib.figure.Figure at 0x14655773aa58>"
      ]
     },
     "metadata": {},
     "output_type": "display_data"
    },
    {
     "data": {
      "image/png": "[encoded data removed]",
      "text/plain": [
       "<matplotlib.figure.Figure at 0x146557b1c710>"
      ]
     },
     "metadata": {},
     "output_type": "display_data"
    },
    {
     "data": {
      "image/png": "[encoded data removed]",
      "text/plain": [
       "<matplotlib.figure.Figure at 0x1465577125c0>"
      ]
     },
     "metadata": {},
     "output_type": "display_data"
    },
    {
     "data": {
      "image/png": "[encoded data removed]",
      "text/plain": [
       "<matplotlib.figure.Figure at 0x146558374e48>"
      ]
     },
     "metadata": {},
     "output_type": "display_data"
    }
   ],
   "source": [
    "plots(dataset[0,15:20,:,:,0])\n",
    "plots(dataset[0,15:20,:,:,1])\n",
    "plots(dataset[0,15:20,:,:,2])\n",
    "plots(dataset[0,15:20,:,:,3])"
   ]
  },
  {
   "cell_type": "code",
   "execution_count": 68,
   "metadata": {},
   "outputs": [
    {
     "data": {
      "text/plain": [
       "array([[6.],\n",
       "       [6.],\n",
       "       [6.],\n",
       "       [6.],\n",
       "       [6.]])"
      ]
     },
     "execution_count": 68,
     "metadata": {},
     "output_type": "execute_result"
    }
   ],
   "source": [
    "i = 1500\n",
    "labels[i,0:5]"
   ]
  },
  {
   "cell_type": "code",
   "execution_count": 69,
   "metadata": {},
   "outputs": [
    {
     "data": {
      "image/png": "[encoded data removed]",
      "text/plain": [
       "<matplotlib.figure.Figure at 0x146557dfe7b8>"
      ]
     },
     "metadata": {},
     "output_type": "display_data"
    },
    {
     "data": {
      "image/png": "[encoded data removed]",
      "text/plain": [
       "<matplotlib.figure.Figure at 0x146557a2a908>"
      ]
     },
     "metadata": {},
     "output_type": "display_data"
    },
    {
     "data": {
      "image/png": "[encoded data removed]",
      "text/plain": [
       "<matplotlib.figure.Figure at 0x1465579cce48>"
      ]
     },
     "metadata": {},
     "output_type": "display_data"
    },
    {
     "data": {
      "image/png": "[encoded data removed]",
      "text/plain": [
       "<matplotlib.figure.Figure at 0x1465578255c0>"
      ]
     },
     "metadata": {},
     "output_type": "display_data"
    }
   ],
   "source": [
    "plots(dataset[i,0:5,:,:,0])\n",
    "plots(dataset[i,0:5,:,:,1])\n",
    "plots(dataset[i,0:5,:,:,2])\n",
    "plots(dataset[i,0:5,:,:,3])"
   ]
  },
  {
   "cell_type": "code",
   "execution_count": 70,
   "metadata": {},
   "outputs": [
    {
     "data": {
      "image/png": "[encoded data removed]",
      "text/plain": [
       "<matplotlib.figure.Figure at 0x1465582714e0>"
      ]
     },
     "metadata": {},
     "output_type": "display_data"
    },
    {
     "data": {
      "image/png": "[encoded data removed]",
      "text/plain": [
       "<matplotlib.figure.Figure at 0x1465582674a8>"
      ]
     },
     "metadata": {},
     "output_type": "display_data"
    },
    {
     "data": {
      "image/png": "[encoded data removed]",
      "text/plain": [
       "<matplotlib.figure.Figure at 0x146557887a58>"
      ]
     },
     "metadata": {},
     "output_type": "display_data"
    },
    {
     "data": {
      "image/png": "[encoded data removed]",
      "text/plain": [
       "<matplotlib.figure.Figure at 0x146558406ba8>"
      ]
     },
     "metadata": {},
     "output_type": "display_data"
    }
   ],
   "source": [
    "plots(dataset[i,5:10,:,:,0])\n",
    "plots(dataset[i,5:10,:,:,1])\n",
    "plots(dataset[i,5:10,:,:,2])\n",
    "plots(dataset[i,5:10,:,:,3])"
   ]
  },
  {
   "cell_type": "code",
   "execution_count": 71,
   "metadata": {},
   "outputs": [
    {
     "data": {
      "image/png": "[encoded data removed]",
      "text/plain": [
       "<matplotlib.figure.Figure at 0x1465580c0c18>"
      ]
     },
     "metadata": {},
     "output_type": "display_data"
    },
    {
     "data": {
      "image/png": "[encoded data removed]",
      "text/plain": [
       "<matplotlib.figure.Figure at 0x1465583e2c88>"
      ]
     },
     "metadata": {},
     "output_type": "display_data"
    },
    {
     "data": {
      "image/png": "[encoded data removed]",
      "text/plain": [
       "<matplotlib.figure.Figure at 0x146557cf0828>"
      ]
     },
     "metadata": {},
     "output_type": "display_data"
    },
    {
     "data": {
      "image/png": "[encoded data removed]",
      "text/plain": [
       "<matplotlib.figure.Figure at 0x146557625a90>"
      ]
     },
     "metadata": {},
     "output_type": "display_data"
    }
   ],
   "source": [
    "plots(dataset[i,10:15,:,:,0])\n",
    "plots(dataset[i,10:15,:,:,1])\n",
    "plots(dataset[i,10:15,:,:,2])\n",
    "plots(dataset[i,10:15,:,:,3])"
   ]
  },
  {
   "cell_type": "code",
   "execution_count": 72,
   "metadata": {},
   "outputs": [
    {
     "data": {
      "image/png": "[encoded data removed]",
      "text/plain": [
       "<matplotlib.figure.Figure at 0x14655824d2e8>"
      ]
     },
     "metadata": {},
     "output_type": "display_data"
    },
    {
     "data": {
      "image/png": "[encoded data removed]",
      "text/plain": [
       "<matplotlib.figure.Figure at 0x146558333a90>"
      ]
     },
     "metadata": {},
     "output_type": "display_data"
    },
    {
     "data": {
      "image/png": "[encoded data removed]",
      "text/plain": [
       "<matplotlib.figure.Figure at 0x1465577cdb70>"
      ]
     },
     "metadata": {},
     "output_type": "display_data"
    },
    {
     "data": {
      "image/png": "[encoded data removed]",
      "text/plain": [
       "<matplotlib.figure.Figure at 0x146558268e48>"
      ]
     },
     "metadata": {},
     "output_type": "display_data"
    }
   ],
   "source": [
    "plots(dataset[i,15:20,:,:,0])\n",
    "plots(dataset[i,15:20,:,:,1])\n",
    "plots(dataset[i,15:20,:,:,2])\n",
    "plots(dataset[i,15:20,:,:,3])"
   ]
  },
  {
   "cell_type": "code",
   "execution_count": 73,
   "metadata": {},
   "outputs": [],
   "source": [
    "x = dataset[0,0,:,:]"
   ]
  },
  {
   "cell_type": "code",
   "execution_count": 74,
   "metadata": {},
   "outputs": [
    {
     "data": {
      "image/png": "[encoded data removed]",
      "text/plain": [
       "<matplotlib.figure.Figure at 0x146557ee1b38>"
      ]
     },
     "metadata": {},
     "output_type": "display_data"
    }
   ],
   "source": [
    "plt.imshow(dataset[1000,15,:,:])\n",
    "plt.show()"
   ]
  },
  {
   "cell_type": "code",
   "execution_count": 75,
   "metadata": {},
   "outputs": [
    {
     "data": {
      "text/plain": [
       "dtype('float64')"
      ]
     },
     "execution_count": 75,
     "metadata": {},
     "output_type": "execute_result"
    }
   ],
   "source": [
    "x.dtype"
   ]
  },
  {
   "cell_type": "code",
   "execution_count": 76,
   "metadata": {},
   "outputs": [],
   "source": [
    "import pickle"
   ]
  },
  {
   "cell_type": "code",
   "execution_count": 77,
   "metadata": {},
   "outputs": [],
   "source": [
    "pickle.dump(dataset,open('dataset_with_4_channel.pickle','wb'))"
   ]
  },
  {
   "cell_type": "code",
   "execution_count": 78,
   "metadata": {},
   "outputs": [],
   "source": [
    "pickle.dump(labels,open('labels_with_4_channel.pickle','wb'))"
   ]
  },
  {
   "cell_type": "code",
   "execution_count": null,
   "metadata": {},
   "outputs": [],
   "source": []
  }
 ],
 "metadata": {
  "kernelspec": {
   "display_name": "Python 3",
   "language": "python",
   "name": "python3"
  },
  "language_info": {
   "codemirror_mode": {
    "name": "ipython",
    "version": 3
   },
   "file_extension": ".py",
   "mimetype": "text/x-python",
   "name": "python",
   "nbconvert_exporter": "python",
   "pygments_lexer": "ipython3",
   "version": "3.6.4"
  }
 },
 "nbformat": 4,
 "nbformat_minor": 2
}
